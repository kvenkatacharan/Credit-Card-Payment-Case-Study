{
 "cells": [
  {
   "cell_type": "markdown",
   "metadata": {},
   "source": [
    "# Case Study - Credit Card Payment"
   ]
  },
  {
   "cell_type": "markdown",
   "metadata": {},
   "source": [
    "### <font color = darkblue>In this case study, we will apply various classification algorithms to predict the payment for credit card for next month is defaulted or not."
   ]
  },
  {
   "cell_type": "markdown",
   "metadata": {},
   "source": [
    "---"
   ]
  },
  {
   "cell_type": "markdown",
   "metadata": {},
   "source": [
    "- ### Load Required Libraries"
   ]
  },
  {
   "cell_type": "code",
   "execution_count": 1,
   "metadata": {},
   "outputs": [],
   "source": [
    "# !pip install imblearn"
   ]
  },
  {
   "cell_type": "code",
   "execution_count": 2,
   "metadata": {},
   "outputs": [],
   "source": [
    "import pandas as pd\n",
    "import numpy as np\n",
    "import matplotlib.pyplot as plt\n",
    "import seaborn as sns\n",
    "from imblearn.over_sampling import SMOTE"
   ]
  },
  {
   "cell_type": "code",
   "execution_count": 3,
   "metadata": {},
   "outputs": [],
   "source": [
    "from IPython.display import Image\n",
    "plt.rcParams['font.size']=14\n",
    "plt.rcParams['axes.grid']=True\n",
    "import warnings # to ignore warning\n",
    "warnings.filterwarnings(\"ignore\", category=DeprecationWarning)\n",
    "warnings.filterwarnings(\"ignore\", category=FutureWarning)\n",
    "pd.set_option('display.max_columns', 40)"
   ]
  },
  {
   "cell_type": "code",
   "execution_count": 4,
   "metadata": {},
   "outputs": [
    {
     "data": {
      "text/html": [
       "<img src=\"https://www.paisabazaar.com/wp-content/uploads/2016/12/feature-image_2.jpg\"/>"
      ],
      "text/plain": [
       "<IPython.core.display.Image object>"
      ]
     },
     "execution_count": 4,
     "metadata": {},
     "output_type": "execute_result"
    }
   ],
   "source": [
    "Image(url = 'https://www.paisabazaar.com/wp-content/uploads/2016/12/feature-image_2.jpg')"
   ]
  },
  {
   "cell_type": "markdown",
   "metadata": {},
   "source": [
    "---"
   ]
  },
  {
   "cell_type": "markdown",
   "metadata": {},
   "source": [
    "##### Scenario:\n",
    "\n",
    "Ascension multinational bank offers a wide range of financial services including credit card service.\n",
    "\n",
    "##### Challenge:\n",
    "\n",
    "The bank is facing issues in tracking the regular payment of credit card thereby leading to increase in the involvement of their assets. You, as a Data Scientist have to create a model to predict the customers who will default for the next month.\n",
    "\n",
    "##### Dataset:\n",
    "\n",
    "\n",
    "The company has information on 15000 customers. The dataset contains information on 25 variables, including demographic factors, credit data, history of payment, and bill statements of credit card customers from April 2005 to September 2005 and the information whether the customer will default payment for the next month or not?\n",
    "The description of the columns is as given below:\n",
    "\n",
    "- __ID__: ID of each customer\n",
    "- __LIMIT_BAL__: Amount of given credit in NT dollars (includes individual and family/supplementary credit\n",
    "- __SEX__: Gender (1=male, 2=female)\n",
    "- __EDUCATION__: (1=graduate school, 2=university, 3=high school, 4=others, 5=unknown, 6=unknown)\n",
    "- __MARRIAGE__: Marital status (1=married, 2=single, 3=others)\n",
    "- __AGE__: Age in years\n",
    "- __PAY_0__: Repayment status in September, 2005 (-1=pay duly, 1=payment delay for one month, 2=payment delay for two months, ... 8=payment delay for eight months, 9=payment delay for nine months and above)\n",
    "- __PAY_2__: Repayment status in August, 2005 (scale same as above)\n",
    "- __PAY_3__: Repayment status in July, 2005 (scale same as above)\n",
    "- __PAY_4__: Repayment status in June, 2005 (scale same as above)\n",
    "- __PAY_5__: Repayment status in May, 2005 (scale same as above)\n",
    "- __PAY_6__: Repayment status in April, 2005 (scale same as above)\n",
    "- __BILL_AMT1__: Amount of bill statement in September, 2005 (NT dollar)\n",
    "- __BILL_AMT2__: Amount of bill statement in August, 2005 (NT dollar)\n",
    "- __BILL_AMT3__: Amount of bill statement in July, 2005 (NT dollar)\n",
    "- __BILL_AMT4__: Amount of bill statement in June, 2005 (NT dollar)\n",
    "- __BILL_AMT5__: Amount of bill statement in May, 2005 (NT dollar)\n",
    "- __BILL_AMT6__: Amount of bill statement in April, 2005 (NT dollar)\n",
    "- __PAY_AMT1__: Amount of previous payment in September, 2005 (NT dollar)\n",
    "- __PAY_AMT2__: Amount of previous payment in August, 2005 (NT dollar)\n",
    "- __PAY_AMT3__: Amount of previous payment in July, 2005 (NT dollar)\n",
    "- __PAY_AMT4__: Amount of previous payment in June, 2005 (NT dollar)\n",
    "- __PAY_AMT5__: Amount of previous payment in May, 2005 (NT dollar)\n",
    "- __PAY_AMT6__: Amount of previous payment in April, 2005 (NT dollar)\n",
    "- __default.payment.next.month__: Default payment (1=yes, 0=no)"
   ]
  },
  {
   "cell_type": "markdown",
   "metadata": {},
   "source": [
    "- ### Load and analyse data\n",
    "\n",
    "        - Load the data from the required location into a DataFrame\n",
    "        - Analyse the shape of the data by printing its total number of rows & columns\n",
    "        - Also print 5 rows of the DataFrame"
   ]
  },
  {
   "cell_type": "code",
   "execution_count": 5,
   "metadata": {},
   "outputs": [],
   "source": [
    "credit = pd.read_csv(\"UCI_Credit_Card.csv\")"
   ]
  },
  {
   "cell_type": "code",
   "execution_count": 6,
   "metadata": {},
   "outputs": [
    {
     "data": {
      "text/plain": [
       "(15000, 25)"
      ]
     },
     "execution_count": 6,
     "metadata": {},
     "output_type": "execute_result"
    }
   ],
   "source": [
    "credit.shape"
   ]
  },
  {
   "cell_type": "code",
   "execution_count": 7,
   "metadata": {},
   "outputs": [
    {
     "data": {
      "text/html": [
       "<div>\n",
       "<style scoped>\n",
       "    .dataframe tbody tr th:only-of-type {\n",
       "        vertical-align: middle;\n",
       "    }\n",
       "\n",
       "    .dataframe tbody tr th {\n",
       "        vertical-align: top;\n",
       "    }\n",
       "\n",
       "    .dataframe thead th {\n",
       "        text-align: right;\n",
       "    }\n",
       "</style>\n",
       "<table border=\"1\" class=\"dataframe\">\n",
       "  <thead>\n",
       "    <tr style=\"text-align: right;\">\n",
       "      <th></th>\n",
       "      <th>ID</th>\n",
       "      <th>LIMIT_BAL</th>\n",
       "      <th>SEX</th>\n",
       "      <th>EDUCATION</th>\n",
       "      <th>MARRIAGE</th>\n",
       "      <th>AGE</th>\n",
       "      <th>PAY_0</th>\n",
       "      <th>PAY_2</th>\n",
       "      <th>PAY_3</th>\n",
       "      <th>PAY_4</th>\n",
       "      <th>PAY_5</th>\n",
       "      <th>PAY_6</th>\n",
       "      <th>BILL_AMT1</th>\n",
       "      <th>BILL_AMT2</th>\n",
       "      <th>BILL_AMT3</th>\n",
       "      <th>BILL_AMT4</th>\n",
       "      <th>BILL_AMT5</th>\n",
       "      <th>BILL_AMT6</th>\n",
       "      <th>PAY_AMT1</th>\n",
       "      <th>PAY_AMT2</th>\n",
       "      <th>PAY_AMT3</th>\n",
       "      <th>PAY_AMT4</th>\n",
       "      <th>PAY_AMT5</th>\n",
       "      <th>PAY_AMT6</th>\n",
       "      <th>default.payment.next.month</th>\n",
       "    </tr>\n",
       "  </thead>\n",
       "  <tbody>\n",
       "    <tr>\n",
       "      <th>0</th>\n",
       "      <td>2</td>\n",
       "      <td>120000.0</td>\n",
       "      <td>2</td>\n",
       "      <td>2</td>\n",
       "      <td>2</td>\n",
       "      <td>26</td>\n",
       "      <td>-1</td>\n",
       "      <td>2</td>\n",
       "      <td>0</td>\n",
       "      <td>0</td>\n",
       "      <td>0</td>\n",
       "      <td>2</td>\n",
       "      <td>2682.0</td>\n",
       "      <td>1725.0</td>\n",
       "      <td>2682.0</td>\n",
       "      <td>3272.0</td>\n",
       "      <td>3455.0</td>\n",
       "      <td>3261.0</td>\n",
       "      <td>0.0</td>\n",
       "      <td>1000.0</td>\n",
       "      <td>1000.0</td>\n",
       "      <td>1000.0</td>\n",
       "      <td>0.0</td>\n",
       "      <td>2000.0</td>\n",
       "      <td>1</td>\n",
       "    </tr>\n",
       "    <tr>\n",
       "      <th>1</th>\n",
       "      <td>4</td>\n",
       "      <td>50000.0</td>\n",
       "      <td>2</td>\n",
       "      <td>2</td>\n",
       "      <td>1</td>\n",
       "      <td>37</td>\n",
       "      <td>0</td>\n",
       "      <td>0</td>\n",
       "      <td>0</td>\n",
       "      <td>0</td>\n",
       "      <td>0</td>\n",
       "      <td>0</td>\n",
       "      <td>46990.0</td>\n",
       "      <td>48233.0</td>\n",
       "      <td>49291.0</td>\n",
       "      <td>28314.0</td>\n",
       "      <td>28959.0</td>\n",
       "      <td>29547.0</td>\n",
       "      <td>2000.0</td>\n",
       "      <td>2019.0</td>\n",
       "      <td>1200.0</td>\n",
       "      <td>1100.0</td>\n",
       "      <td>1069.0</td>\n",
       "      <td>1000.0</td>\n",
       "      <td>0</td>\n",
       "    </tr>\n",
       "    <tr>\n",
       "      <th>2</th>\n",
       "      <td>6</td>\n",
       "      <td>50000.0</td>\n",
       "      <td>1</td>\n",
       "      <td>1</td>\n",
       "      <td>2</td>\n",
       "      <td>37</td>\n",
       "      <td>0</td>\n",
       "      <td>0</td>\n",
       "      <td>0</td>\n",
       "      <td>0</td>\n",
       "      <td>0</td>\n",
       "      <td>0</td>\n",
       "      <td>64400.0</td>\n",
       "      <td>57069.0</td>\n",
       "      <td>57608.0</td>\n",
       "      <td>19394.0</td>\n",
       "      <td>19619.0</td>\n",
       "      <td>20024.0</td>\n",
       "      <td>2500.0</td>\n",
       "      <td>1815.0</td>\n",
       "      <td>657.0</td>\n",
       "      <td>1000.0</td>\n",
       "      <td>1000.0</td>\n",
       "      <td>800.0</td>\n",
       "      <td>0</td>\n",
       "    </tr>\n",
       "    <tr>\n",
       "      <th>3</th>\n",
       "      <td>8</td>\n",
       "      <td>100000.0</td>\n",
       "      <td>2</td>\n",
       "      <td>2</td>\n",
       "      <td>2</td>\n",
       "      <td>23</td>\n",
       "      <td>0</td>\n",
       "      <td>-1</td>\n",
       "      <td>-1</td>\n",
       "      <td>0</td>\n",
       "      <td>0</td>\n",
       "      <td>-1</td>\n",
       "      <td>11876.0</td>\n",
       "      <td>380.0</td>\n",
       "      <td>601.0</td>\n",
       "      <td>221.0</td>\n",
       "      <td>-159.0</td>\n",
       "      <td>567.0</td>\n",
       "      <td>380.0</td>\n",
       "      <td>601.0</td>\n",
       "      <td>0.0</td>\n",
       "      <td>581.0</td>\n",
       "      <td>1687.0</td>\n",
       "      <td>1542.0</td>\n",
       "      <td>0</td>\n",
       "    </tr>\n",
       "    <tr>\n",
       "      <th>4</th>\n",
       "      <td>10</td>\n",
       "      <td>20000.0</td>\n",
       "      <td>1</td>\n",
       "      <td>3</td>\n",
       "      <td>2</td>\n",
       "      <td>35</td>\n",
       "      <td>-2</td>\n",
       "      <td>-2</td>\n",
       "      <td>-2</td>\n",
       "      <td>-2</td>\n",
       "      <td>-1</td>\n",
       "      <td>-1</td>\n",
       "      <td>0.0</td>\n",
       "      <td>0.0</td>\n",
       "      <td>0.0</td>\n",
       "      <td>0.0</td>\n",
       "      <td>13007.0</td>\n",
       "      <td>13912.0</td>\n",
       "      <td>0.0</td>\n",
       "      <td>0.0</td>\n",
       "      <td>0.0</td>\n",
       "      <td>13007.0</td>\n",
       "      <td>1122.0</td>\n",
       "      <td>0.0</td>\n",
       "      <td>0</td>\n",
       "    </tr>\n",
       "  </tbody>\n",
       "</table>\n",
       "</div>"
      ],
      "text/plain": [
       "   ID  LIMIT_BAL  SEX  EDUCATION  MARRIAGE  AGE  PAY_0  PAY_2  PAY_3  PAY_4  \\\n",
       "0   2   120000.0    2          2         2   26     -1      2      0      0   \n",
       "1   4    50000.0    2          2         1   37      0      0      0      0   \n",
       "2   6    50000.0    1          1         2   37      0      0      0      0   \n",
       "3   8   100000.0    2          2         2   23      0     -1     -1      0   \n",
       "4  10    20000.0    1          3         2   35     -2     -2     -2     -2   \n",
       "\n",
       "   PAY_5  PAY_6  BILL_AMT1  BILL_AMT2  BILL_AMT3  BILL_AMT4  BILL_AMT5  \\\n",
       "0      0      2     2682.0     1725.0     2682.0     3272.0     3455.0   \n",
       "1      0      0    46990.0    48233.0    49291.0    28314.0    28959.0   \n",
       "2      0      0    64400.0    57069.0    57608.0    19394.0    19619.0   \n",
       "3      0     -1    11876.0      380.0      601.0      221.0     -159.0   \n",
       "4     -1     -1        0.0        0.0        0.0        0.0    13007.0   \n",
       "\n",
       "   BILL_AMT6  PAY_AMT1  PAY_AMT2  PAY_AMT3  PAY_AMT4  PAY_AMT5  PAY_AMT6  \\\n",
       "0     3261.0       0.0    1000.0    1000.0    1000.0       0.0    2000.0   \n",
       "1    29547.0    2000.0    2019.0    1200.0    1100.0    1069.0    1000.0   \n",
       "2    20024.0    2500.0    1815.0     657.0    1000.0    1000.0     800.0   \n",
       "3      567.0     380.0     601.0       0.0     581.0    1687.0    1542.0   \n",
       "4    13912.0       0.0       0.0       0.0   13007.0    1122.0       0.0   \n",
       "\n",
       "   default.payment.next.month  \n",
       "0                           1  \n",
       "1                           0  \n",
       "2                           0  \n",
       "3                           0  \n",
       "4                           0  "
      ]
     },
     "execution_count": 7,
     "metadata": {},
     "output_type": "execute_result"
    }
   ],
   "source": [
    "credit.head() ### Glimpse of the data"
   ]
  },
  {
   "cell_type": "markdown",
   "metadata": {},
   "source": [
    "- ### Clean the data\n",
    "\n",
    "\n",
    "    - ID variable as it has no relevance to training a model\n",
    "    - Check for any null values\n"
   ]
  },
  {
   "cell_type": "code",
   "execution_count": 8,
   "metadata": {},
   "outputs": [],
   "source": [
    "# Removing ID variable as it has no relevance\n",
    "credit.drop(['ID'],axis=1, inplace=True)"
   ]
  },
  {
   "cell_type": "code",
   "execution_count": 9,
   "metadata": {},
   "outputs": [
    {
     "data": {
      "text/plain": [
       "LIMIT_BAL                     0\n",
       "SEX                           0\n",
       "EDUCATION                     0\n",
       "MARRIAGE                      0\n",
       "AGE                           0\n",
       "PAY_0                         0\n",
       "PAY_2                         0\n",
       "PAY_3                         0\n",
       "PAY_4                         0\n",
       "PAY_5                         0\n",
       "PAY_6                         0\n",
       "BILL_AMT1                     0\n",
       "BILL_AMT2                     0\n",
       "BILL_AMT3                     0\n",
       "BILL_AMT4                     0\n",
       "BILL_AMT5                     0\n",
       "BILL_AMT6                     0\n",
       "PAY_AMT1                      0\n",
       "PAY_AMT2                      0\n",
       "PAY_AMT3                      0\n",
       "PAY_AMT4                      0\n",
       "PAY_AMT5                      0\n",
       "PAY_AMT6                      0\n",
       "default.payment.next.month    0\n",
       "dtype: int64"
      ]
     },
     "execution_count": 9,
     "metadata": {},
     "output_type": "execute_result"
    }
   ],
   "source": [
    "# Checking for any null values\n",
    "credit.isnull().sum()"
   ]
  },
  {
   "cell_type": "markdown",
   "metadata": {},
   "source": [
    "There are no null values in the data set"
   ]
  },
  {
   "cell_type": "markdown",
   "metadata": {},
   "source": [
    "- ### Check data type       "
   ]
  },
  {
   "cell_type": "code",
   "execution_count": 10,
   "metadata": {},
   "outputs": [
    {
     "data": {
      "text/plain": [
       "LIMIT_BAL                     float64\n",
       "SEX                             int64\n",
       "EDUCATION                       int64\n",
       "MARRIAGE                        int64\n",
       "AGE                             int64\n",
       "PAY_0                           int64\n",
       "PAY_2                           int64\n",
       "PAY_3                           int64\n",
       "PAY_4                           int64\n",
       "PAY_5                           int64\n",
       "PAY_6                           int64\n",
       "BILL_AMT1                     float64\n",
       "BILL_AMT2                     float64\n",
       "BILL_AMT3                     float64\n",
       "BILL_AMT4                     float64\n",
       "BILL_AMT5                     float64\n",
       "BILL_AMT6                     float64\n",
       "PAY_AMT1                      float64\n",
       "PAY_AMT2                      float64\n",
       "PAY_AMT3                      float64\n",
       "PAY_AMT4                      float64\n",
       "PAY_AMT5                      float64\n",
       "PAY_AMT6                      float64\n",
       "default.payment.next.month      int64\n",
       "dtype: object"
      ]
     },
     "execution_count": 10,
     "metadata": {},
     "output_type": "execute_result"
    }
   ],
   "source": [
    "credit.dtypes"
   ]
  },
  {
   "cell_type": "markdown",
   "metadata": {},
   "source": [
    " - We know that many of the variable are categorical variabble"
   ]
  },
  {
   "cell_type": "markdown",
   "metadata": {},
   "source": [
    "- ### Check either the data is balanced or not"
   ]
  },
  {
   "cell_type": "code",
   "execution_count": 11,
   "metadata": {},
   "outputs": [
    {
     "data": {
      "image/png": "[encoded data removed]",
      "text/plain": [
       "<Figure size 432x288 with 1 Axes>"
      ]
     },
     "metadata": {
      "needs_background": "light"
     },
     "output_type": "display_data"
    }
   ],
   "source": [
    "sns.countplot(credit['default.payment.next.month'], palette='husl')\n",
    "plt.show()"
   ]
  },
  {
   "cell_type": "markdown",
   "metadata": {},
   "source": [
    "The data has a significant imbalance with respect of the target value (default.payment.next.month)."
   ]
  },
  {
   "cell_type": "markdown",
   "metadata": {},
   "source": [
    "- ### Treatment of categorical features"
   ]
  },
  {
   "cell_type": "markdown",
   "metadata": {},
   "source": [
    "Treating the categorical features to introduce into the model"
   ]
  },
  {
   "cell_type": "code",
   "execution_count": 12,
   "metadata": {},
   "outputs": [
    {
     "data": {
      "text/html": [
       "<div>\n",
       "<style scoped>\n",
       "    .dataframe tbody tr th:only-of-type {\n",
       "        vertical-align: middle;\n",
       "    }\n",
       "\n",
       "    .dataframe tbody tr th {\n",
       "        vertical-align: top;\n",
       "    }\n",
       "\n",
       "    .dataframe thead th {\n",
       "        text-align: right;\n",
       "    }\n",
       "</style>\n",
       "<table border=\"1\" class=\"dataframe\">\n",
       "  <thead>\n",
       "    <tr style=\"text-align: right;\">\n",
       "      <th></th>\n",
       "      <th>LIMIT_BAL</th>\n",
       "      <th>SEX</th>\n",
       "      <th>EDUCATION</th>\n",
       "      <th>MARRIAGE</th>\n",
       "      <th>AGE</th>\n",
       "      <th>PAY_0</th>\n",
       "      <th>PAY_2</th>\n",
       "      <th>PAY_3</th>\n",
       "      <th>PAY_4</th>\n",
       "      <th>PAY_5</th>\n",
       "      <th>PAY_6</th>\n",
       "      <th>BILL_AMT1</th>\n",
       "      <th>BILL_AMT2</th>\n",
       "      <th>BILL_AMT3</th>\n",
       "      <th>BILL_AMT4</th>\n",
       "      <th>BILL_AMT5</th>\n",
       "      <th>BILL_AMT6</th>\n",
       "      <th>PAY_AMT1</th>\n",
       "      <th>PAY_AMT2</th>\n",
       "      <th>PAY_AMT3</th>\n",
       "      <th>PAY_AMT4</th>\n",
       "      <th>PAY_AMT5</th>\n",
       "      <th>PAY_AMT6</th>\n",
       "      <th>default.payment.next.month</th>\n",
       "    </tr>\n",
       "  </thead>\n",
       "  <tbody>\n",
       "    <tr>\n",
       "      <th>0</th>\n",
       "      <td>120000.0</td>\n",
       "      <td>2</td>\n",
       "      <td>2</td>\n",
       "      <td>2</td>\n",
       "      <td>26</td>\n",
       "      <td>-1</td>\n",
       "      <td>2</td>\n",
       "      <td>0</td>\n",
       "      <td>0</td>\n",
       "      <td>0</td>\n",
       "      <td>2</td>\n",
       "      <td>2682.0</td>\n",
       "      <td>1725.0</td>\n",
       "      <td>2682.0</td>\n",
       "      <td>3272.0</td>\n",
       "      <td>3455.0</td>\n",
       "      <td>3261.0</td>\n",
       "      <td>0.0</td>\n",
       "      <td>1000.0</td>\n",
       "      <td>1000.0</td>\n",
       "      <td>1000.0</td>\n",
       "      <td>0.0</td>\n",
       "      <td>2000.0</td>\n",
       "      <td>1</td>\n",
       "    </tr>\n",
       "    <tr>\n",
       "      <th>1</th>\n",
       "      <td>50000.0</td>\n",
       "      <td>2</td>\n",
       "      <td>2</td>\n",
       "      <td>1</td>\n",
       "      <td>37</td>\n",
       "      <td>0</td>\n",
       "      <td>0</td>\n",
       "      <td>0</td>\n",
       "      <td>0</td>\n",
       "      <td>0</td>\n",
       "      <td>0</td>\n",
       "      <td>46990.0</td>\n",
       "      <td>48233.0</td>\n",
       "      <td>49291.0</td>\n",
       "      <td>28314.0</td>\n",
       "      <td>28959.0</td>\n",
       "      <td>29547.0</td>\n",
       "      <td>2000.0</td>\n",
       "      <td>2019.0</td>\n",
       "      <td>1200.0</td>\n",
       "      <td>1100.0</td>\n",
       "      <td>1069.0</td>\n",
       "      <td>1000.0</td>\n",
       "      <td>0</td>\n",
       "    </tr>\n",
       "    <tr>\n",
       "      <th>2</th>\n",
       "      <td>50000.0</td>\n",
       "      <td>1</td>\n",
       "      <td>1</td>\n",
       "      <td>2</td>\n",
       "      <td>37</td>\n",
       "      <td>0</td>\n",
       "      <td>0</td>\n",
       "      <td>0</td>\n",
       "      <td>0</td>\n",
       "      <td>0</td>\n",
       "      <td>0</td>\n",
       "      <td>64400.0</td>\n",
       "      <td>57069.0</td>\n",
       "      <td>57608.0</td>\n",
       "      <td>19394.0</td>\n",
       "      <td>19619.0</td>\n",
       "      <td>20024.0</td>\n",
       "      <td>2500.0</td>\n",
       "      <td>1815.0</td>\n",
       "      <td>657.0</td>\n",
       "      <td>1000.0</td>\n",
       "      <td>1000.0</td>\n",
       "      <td>800.0</td>\n",
       "      <td>0</td>\n",
       "    </tr>\n",
       "    <tr>\n",
       "      <th>3</th>\n",
       "      <td>100000.0</td>\n",
       "      <td>2</td>\n",
       "      <td>2</td>\n",
       "      <td>2</td>\n",
       "      <td>23</td>\n",
       "      <td>0</td>\n",
       "      <td>-1</td>\n",
       "      <td>-1</td>\n",
       "      <td>0</td>\n",
       "      <td>0</td>\n",
       "      <td>-1</td>\n",
       "      <td>11876.0</td>\n",
       "      <td>380.0</td>\n",
       "      <td>601.0</td>\n",
       "      <td>221.0</td>\n",
       "      <td>-159.0</td>\n",
       "      <td>567.0</td>\n",
       "      <td>380.0</td>\n",
       "      <td>601.0</td>\n",
       "      <td>0.0</td>\n",
       "      <td>581.0</td>\n",
       "      <td>1687.0</td>\n",
       "      <td>1542.0</td>\n",
       "      <td>0</td>\n",
       "    </tr>\n",
       "    <tr>\n",
       "      <th>4</th>\n",
       "      <td>20000.0</td>\n",
       "      <td>1</td>\n",
       "      <td>3</td>\n",
       "      <td>2</td>\n",
       "      <td>35</td>\n",
       "      <td>-2</td>\n",
       "      <td>-2</td>\n",
       "      <td>-2</td>\n",
       "      <td>-2</td>\n",
       "      <td>-1</td>\n",
       "      <td>-1</td>\n",
       "      <td>0.0</td>\n",
       "      <td>0.0</td>\n",
       "      <td>0.0</td>\n",
       "      <td>0.0</td>\n",
       "      <td>13007.0</td>\n",
       "      <td>13912.0</td>\n",
       "      <td>0.0</td>\n",
       "      <td>0.0</td>\n",
       "      <td>0.0</td>\n",
       "      <td>13007.0</td>\n",
       "      <td>1122.0</td>\n",
       "      <td>0.0</td>\n",
       "      <td>0</td>\n",
       "    </tr>\n",
       "  </tbody>\n",
       "</table>\n",
       "</div>"
      ],
      "text/plain": [
       "   LIMIT_BAL  SEX  EDUCATION  MARRIAGE  AGE  PAY_0  PAY_2  PAY_3  PAY_4  \\\n",
       "0   120000.0    2          2         2   26     -1      2      0      0   \n",
       "1    50000.0    2          2         1   37      0      0      0      0   \n",
       "2    50000.0    1          1         2   37      0      0      0      0   \n",
       "3   100000.0    2          2         2   23      0     -1     -1      0   \n",
       "4    20000.0    1          3         2   35     -2     -2     -2     -2   \n",
       "\n",
       "   PAY_5  PAY_6  BILL_AMT1  BILL_AMT2  BILL_AMT3  BILL_AMT4  BILL_AMT5  \\\n",
       "0      0      2     2682.0     1725.0     2682.0     3272.0     3455.0   \n",
       "1      0      0    46990.0    48233.0    49291.0    28314.0    28959.0   \n",
       "2      0      0    64400.0    57069.0    57608.0    19394.0    19619.0   \n",
       "3      0     -1    11876.0      380.0      601.0      221.0     -159.0   \n",
       "4     -1     -1        0.0        0.0        0.0        0.0    13007.0   \n",
       "\n",
       "   BILL_AMT6  PAY_AMT1  PAY_AMT2  PAY_AMT3  PAY_AMT4  PAY_AMT5  PAY_AMT6  \\\n",
       "0     3261.0       0.0    1000.0    1000.0    1000.0       0.0    2000.0   \n",
       "1    29547.0    2000.0    2019.0    1200.0    1100.0    1069.0    1000.0   \n",
       "2    20024.0    2500.0    1815.0     657.0    1000.0    1000.0     800.0   \n",
       "3      567.0     380.0     601.0       0.0     581.0    1687.0    1542.0   \n",
       "4    13912.0       0.0       0.0       0.0   13007.0    1122.0       0.0   \n",
       "\n",
       "   default.payment.next.month  \n",
       "0                           1  \n",
       "1                           0  \n",
       "2                           0  \n",
       "3                           0  \n",
       "4                           0  "
      ]
     },
     "execution_count": 12,
     "metadata": {},
     "output_type": "execute_result"
    }
   ],
   "source": [
    "credit.head()"
   ]
  },
  {
   "cell_type": "code",
   "execution_count": 13,
   "metadata": {},
   "outputs": [],
   "source": [
    "cat_features = ['EDUCATION', 'SEX', 'MARRIAGE']"
   ]
  },
  {
   "cell_type": "code",
   "execution_count": 14,
   "metadata": {},
   "outputs": [],
   "source": [
    "credit_dummies = pd.get_dummies(credit, columns = cat_features)"
   ]
  },
  {
   "cell_type": "code",
   "execution_count": 15,
   "metadata": {},
   "outputs": [
    {
     "name": "stdout",
     "output_type": "stream",
     "text": [
      "Default of Credit Card Clients data - rows: 15000  columns: 34\n"
     ]
    }
   ],
   "source": [
    "print(\"Default of Credit Card Clients data - rows:\",credit_dummies.shape[0],\" columns:\", credit_dummies.shape[1])"
   ]
  },
  {
   "cell_type": "markdown",
   "metadata": {},
   "source": [
    "#### - ### seperate target and features"
   ]
  },
  {
   "cell_type": "code",
   "execution_count": 16,
   "metadata": {},
   "outputs": [],
   "source": [
    "#Assigning and dividing the dataset\n",
    "X = credit_dummies.drop(['default.payment.next.month'], axis=1)\n",
    "y =  credit_dummies['default.payment.next.month']"
   ]
  },
  {
   "cell_type": "markdown",
   "metadata": {},
   "source": [
    "- ### Create training and testing set"
   ]
  },
  {
   "cell_type": "code",
   "execution_count": 17,
   "metadata": {},
   "outputs": [],
   "source": [
    "# Splitting the dataset into the Training set and Test set\n",
    "from sklearn.model_selection  import train_test_split\n",
    "X_train, X_test, y_train, y_test = train_test_split(X, y, test_size = 0.25, random_state = 5)"
   ]
  },
  {
   "cell_type": "code",
   "execution_count": 18,
   "metadata": {},
   "outputs": [
    {
     "data": {
      "text/plain": [
       "(11250, 33)"
      ]
     },
     "execution_count": 18,
     "metadata": {},
     "output_type": "execute_result"
    }
   ],
   "source": [
    "X_train.shape"
   ]
  },
  {
   "cell_type": "code",
   "execution_count": 19,
   "metadata": {},
   "outputs": [
    {
     "data": {
      "text/plain": [
       "(3750, 33)"
      ]
     },
     "execution_count": 19,
     "metadata": {},
     "output_type": "execute_result"
    }
   ],
   "source": [
    "X_test.shape"
   ]
  },
  {
   "cell_type": "markdown",
   "metadata": {},
   "source": [
    "- ### Apply Logistic Regression"
   ]
  },
  {
   "cell_type": "code",
   "execution_count": 20,
   "metadata": {},
   "outputs": [
    {
     "name": "stdout",
     "output_type": "stream",
     "text": [
      "Object `LogisticRegression` not found.\n"
     ]
    }
   ],
   "source": [
    "LogisticRegression?"
   ]
  },
  {
   "cell_type": "code",
   "execution_count": 21,
   "metadata": {},
   "outputs": [
    {
     "name": "stdout",
     "output_type": "stream",
     "text": [
      "Train Accuracy:  0.78\n",
      "Test Accuracy:  0.7845333333333333\n"
     ]
    }
   ],
   "source": [
    "from sklearn.linear_model import LogisticRegression\n",
    "classifier = LogisticRegression(max_iter=1000)\n",
    "classifier.fit(X_train, y_train)\n",
    "print('Train Accuracy: ', classifier.score(X_train, y_train))\n",
    "print('Test Accuracy: ', classifier.score(X_test, y_test))"
   ]
  },
  {
   "cell_type": "markdown",
   "metadata": {},
   "source": [
    "- #### Assessing Model performance\n",
    "    - __Precision__: Percentage of correct results\n",
    "    - __Recall__: Percentage of valid results correctly classified\n",
    "    - __F1 Score__: A measure of test's accuracy which is harmonic mean of precision and recall. Maximising this improves the model. Perfect at 1 and worst at 0. "
   ]
  },
  {
   "cell_type": "code",
   "execution_count": 22,
   "metadata": {},
   "outputs": [],
   "source": [
    "from sklearn.metrics import confusion_matrix, accuracy_score, f1_score, precision_score, recall_score"
   ]
  },
  {
   "cell_type": "code",
   "execution_count": 23,
   "metadata": {},
   "outputs": [],
   "source": [
    "y_pred = classifier.predict(X_test)"
   ]
  },
  {
   "cell_type": "code",
   "execution_count": 24,
   "metadata": {},
   "outputs": [
    {
     "name": "stderr",
     "output_type": "stream",
     "text": [
      "C:\\Users\\Apoorv\\anaconda3\\envs\\ml2\\lib\\site-packages\\sklearn\\metrics\\_classification.py:1221: UndefinedMetricWarning: Precision is ill-defined and being set to 0.0 due to no predicted samples. Use `zero_division` parameter to control this behavior.\n",
      "  _warn_prf(average, modifier, msg_start, len(result))\n"
     ]
    },
    {
     "data": {
      "text/html": [
       "<div>\n",
       "<style scoped>\n",
       "    .dataframe tbody tr th:only-of-type {\n",
       "        vertical-align: middle;\n",
       "    }\n",
       "\n",
       "    .dataframe tbody tr th {\n",
       "        vertical-align: top;\n",
       "    }\n",
       "\n",
       "    .dataframe thead th {\n",
       "        text-align: right;\n",
       "    }\n",
       "</style>\n",
       "<table border=\"1\" class=\"dataframe\">\n",
       "  <thead>\n",
       "    <tr style=\"text-align: right;\">\n",
       "      <th></th>\n",
       "      <th>Model</th>\n",
       "      <th>Accuracy</th>\n",
       "      <th>Precision</th>\n",
       "      <th>Recall</th>\n",
       "      <th>F1 Score</th>\n",
       "    </tr>\n",
       "  </thead>\n",
       "  <tbody>\n",
       "    <tr>\n",
       "      <th>0</th>\n",
       "      <td>Logistic Regression</td>\n",
       "      <td>0.784533</td>\n",
       "      <td>0.0</td>\n",
       "      <td>0.0</td>\n",
       "      <td>0.0</td>\n",
       "    </tr>\n",
       "  </tbody>\n",
       "</table>\n",
       "</div>"
      ],
      "text/plain": [
       "                 Model  Accuracy  Precision  Recall  F1 Score\n",
       "0  Logistic Regression  0.784533        0.0     0.0       0.0"
      ]
     },
     "execution_count": 24,
     "metadata": {},
     "output_type": "execute_result"
    }
   ],
   "source": [
    "acc = accuracy_score(y_test, y_pred)\n",
    "prec = precision_score(y_test, y_pred)\n",
    "rec = recall_score(y_test, y_pred)\n",
    "f1 = f1_score(y_test, y_pred)\n",
    "\n",
    "results = pd.DataFrame([['Logistic Regression', acc, prec, rec, f1]],\n",
    "               columns = ['Model', 'Accuracy', 'Precision', 'Recall', 'F1 Score'])\n",
    "results"
   ]
  },
  {
   "cell_type": "code",
   "execution_count": 25,
   "metadata": {},
   "outputs": [
    {
     "data": {
      "text/plain": [
       "array([[2942,    0],\n",
       "       [ 808,    0]], dtype=int64)"
      ]
     },
     "execution_count": 25,
     "metadata": {},
     "output_type": "execute_result"
    }
   ],
   "source": [
    "confusion_matrix(y_test, y_pred)"
   ]
  },
  {
   "cell_type": "code",
   "execution_count": 26,
   "metadata": {},
   "outputs": [
    {
     "data": {
      "text/html": [
       "<div>\n",
       "<style scoped>\n",
       "    .dataframe tbody tr th:only-of-type {\n",
       "        vertical-align: middle;\n",
       "    }\n",
       "\n",
       "    .dataframe tbody tr th {\n",
       "        vertical-align: top;\n",
       "    }\n",
       "\n",
       "    .dataframe thead th {\n",
       "        text-align: right;\n",
       "    }\n",
       "</style>\n",
       "<table border=\"1\" class=\"dataframe\">\n",
       "  <thead>\n",
       "    <tr style=\"text-align: right;\">\n",
       "      <th></th>\n",
       "      <th>Predicted 0</th>\n",
       "      <th>Predicted 1</th>\n",
       "    </tr>\n",
       "  </thead>\n",
       "  <tbody>\n",
       "    <tr>\n",
       "      <th>Actual 0</th>\n",
       "      <td>2942</td>\n",
       "      <td>0</td>\n",
       "    </tr>\n",
       "    <tr>\n",
       "      <th>Actual 1</th>\n",
       "      <td>808</td>\n",
       "      <td>0</td>\n",
       "    </tr>\n",
       "  </tbody>\n",
       "</table>\n",
       "</div>"
      ],
      "text/plain": [
       "          Predicted 0  Predicted 1\n",
       "Actual 0         2942            0\n",
       "Actual 1          808            0"
      ]
     },
     "execution_count": 26,
     "metadata": {},
     "output_type": "execute_result"
    }
   ],
   "source": [
    "pd.DataFrame(confusion_matrix(y_test, y_pred), columns=['Predicted 0', 'Predicted 1'], index = ['Actual 0', 'Actual 1'])"
   ]
  },
  {
   "cell_type": "markdown",
   "metadata": {},
   "source": [
    "- ### Apply SMOTE as data is unbalanced"
   ]
  },
  {
   "cell_type": "code",
   "execution_count": 27,
   "metadata": {},
   "outputs": [],
   "source": [
    "from imblearn.over_sampling import SMOTE"
   ]
  },
  {
   "cell_type": "code",
   "execution_count": 28,
   "metadata": {},
   "outputs": [
    {
     "name": "stdout",
     "output_type": "stream",
     "text": [
      "new no. of rows:  17550\n",
      "old no. of rows:  11250\n"
     ]
    }
   ],
   "source": [
    "sm = SMOTE(random_state=589)\n",
    "X_SMOTE, y_SMOTE = sm.fit_sample(X_train, y_train)\n",
    "print('new no. of rows: ', len(y_SMOTE))\n",
    "print('old no. of rows: ', len(y_train))"
   ]
  },
  {
   "cell_type": "code",
   "execution_count": 29,
   "metadata": {},
   "outputs": [
    {
     "name": "stdout",
     "output_type": "stream",
     "text": [
      "Train Accuracy:  0.5\n",
      "Test Accuracy:  0.7845333333333333\n"
     ]
    }
   ],
   "source": [
    "classifier1 = LogisticRegression(max_iter=1000)\n",
    "classifier1.fit(X_SMOTE, y_SMOTE)\n",
    "print('Train Accuracy: ', classifier.score(X_SMOTE, y_SMOTE))\n",
    "print('Test Accuracy: ', classifier.score(X_test, y_test))"
   ]
  },
  {
   "cell_type": "markdown",
   "metadata": {},
   "source": [
    "#### Getting Precision, Recall and F1 Score as well"
   ]
  },
  {
   "cell_type": "code",
   "execution_count": 30,
   "metadata": {},
   "outputs": [
    {
     "name": "stdout",
     "output_type": "stream",
     "text": [
      "                              Model  Accuracy  Precision    Recall  F1 Score\n",
      "0               Logistic Regression  0.784533   0.000000  0.000000  0.000000\n",
      "1  Logistic Regression - with SMOTE  0.548533   0.287157  0.738861  0.413578\n"
     ]
    }
   ],
   "source": [
    "y_pred1 = classifier1.predict(X_test)\n",
    "acc = accuracy_score(y_test, y_pred1)\n",
    "prec = precision_score(y_test, y_pred1)\n",
    "rec = recall_score(y_test, y_pred1)\n",
    "f1 = f1_score(y_test, y_pred1)\n",
    "\n",
    "model_results = pd.DataFrame([['Logistic Regression - with SMOTE', acc, prec, rec, f1]],\n",
    "               columns = ['Model', 'Accuracy', 'Precision', 'Recall', 'F1 Score'])\n",
    "\n",
    "results = results.append(model_results, ignore_index = True)\n",
    "print(results)"
   ]
  },
  {
   "cell_type": "code",
   "execution_count": 31,
   "metadata": {},
   "outputs": [
    {
     "data": {
      "text/plain": [
       "array([[1460, 1482],\n",
       "       [ 211,  597]], dtype=int64)"
      ]
     },
     "execution_count": 31,
     "metadata": {},
     "output_type": "execute_result"
    }
   ],
   "source": [
    "confusion_matrix(y_test, y_pred1)"
   ]
  },
  {
   "cell_type": "code",
   "execution_count": 32,
   "metadata": {},
   "outputs": [
    {
     "data": {
      "text/html": [
       "<div>\n",
       "<style scoped>\n",
       "    .dataframe tbody tr th:only-of-type {\n",
       "        vertical-align: middle;\n",
       "    }\n",
       "\n",
       "    .dataframe tbody tr th {\n",
       "        vertical-align: top;\n",
       "    }\n",
       "\n",
       "    .dataframe thead th {\n",
       "        text-align: right;\n",
       "    }\n",
       "</style>\n",
       "<table border=\"1\" class=\"dataframe\">\n",
       "  <thead>\n",
       "    <tr style=\"text-align: right;\">\n",
       "      <th></th>\n",
       "      <th>Predicted 0</th>\n",
       "      <th>Predicted 1</th>\n",
       "    </tr>\n",
       "  </thead>\n",
       "  <tbody>\n",
       "    <tr>\n",
       "      <th>Actual 0</th>\n",
       "      <td>1460</td>\n",
       "      <td>1482</td>\n",
       "    </tr>\n",
       "    <tr>\n",
       "      <th>Actual 1</th>\n",
       "      <td>211</td>\n",
       "      <td>597</td>\n",
       "    </tr>\n",
       "  </tbody>\n",
       "</table>\n",
       "</div>"
      ],
      "text/plain": [
       "          Predicted 0  Predicted 1\n",
       "Actual 0         1460         1482\n",
       "Actual 1          211          597"
      ]
     },
     "execution_count": 32,
     "metadata": {},
     "output_type": "execute_result"
    }
   ],
   "source": [
    "pd.DataFrame(confusion_matrix(y_test, y_pred1), columns=['Predicted 0', 'Predicted 1'], index = ['Actual 0', 'Actual 1'])"
   ]
  },
  {
   "cell_type": "markdown",
   "metadata": {},
   "source": [
    "Accuracy has dipped but F1 score of the model has improved"
   ]
  },
  {
   "cell_type": "markdown",
   "metadata": {},
   "source": [
    "- ### Apply Decision Tree"
   ]
  },
  {
   "cell_type": "code",
   "execution_count": 33,
   "metadata": {},
   "outputs": [],
   "source": [
    "from sklearn.tree import DecisionTreeClassifier"
   ]
  },
  {
   "cell_type": "code",
   "execution_count": 34,
   "metadata": {},
   "outputs": [
    {
     "name": "stdout",
     "output_type": "stream",
     "text": [
      "Train Accuracy:  0.9998290598290598\n",
      "Test Accuracy:  0.7125333333333334\n",
      "                              Model  Accuracy  Precision    Recall  F1 Score\n",
      "0               Logistic Regression  0.784533   0.000000  0.000000  0.000000\n",
      "1  Logistic Regression - with SMOTE  0.548533   0.287157  0.738861  0.413578\n",
      "2                     Decision Tree  0.712533   0.362525  0.440594  0.397765\n"
     ]
    }
   ],
   "source": [
    "clf = DecisionTreeClassifier(random_state=14) \n",
    "clf.fit(X_SMOTE, y_SMOTE)\n",
    "print('Train Accuracy: ', clf.score(X_SMOTE, y_SMOTE))\n",
    "print('Test Accuracy: ', clf.score(X_test, y_test))\n",
    "\n",
    "# Predicting Test Set\n",
    "pred_dt = clf.predict(X_test)\n",
    "acc = accuracy_score(y_test, pred_dt)\n",
    "prec = precision_score(y_test, pred_dt)\n",
    "rec = recall_score(y_test, pred_dt)\n",
    "f1 = f1_score(y_test, pred_dt)\n",
    "\n",
    "model_results = pd.DataFrame([['Decision Tree', acc, prec, rec, f1]],\n",
    "               columns = ['Model', 'Accuracy', 'Precision', 'Recall', 'F1 Score'])\n",
    "\n",
    "results = results.append(model_results, ignore_index = True)\n",
    "print(results)"
   ]
  },
  {
   "cell_type": "markdown",
   "metadata": {},
   "source": [
    "- ### Apply Random Forest"
   ]
  },
  {
   "cell_type": "code",
   "execution_count": 35,
   "metadata": {},
   "outputs": [
    {
     "name": "stdout",
     "output_type": "stream",
     "text": [
      "Train Accuracy:  0.7521937321937322\n",
      "Test Accuracy:  0.8229333333333333\n",
      "                              Model  Accuracy  Precision    Recall  F1 Score\n",
      "0               Logistic Regression  0.784533   0.000000  0.000000  0.000000\n",
      "1  Logistic Regression - with SMOTE  0.548533   0.287157  0.738861  0.413578\n",
      "2                     Decision Tree  0.712533   0.362525  0.440594  0.397765\n",
      "3               Random Forest(Gini)  0.822933   0.665138  0.358911  0.466238\n",
      "Wall time: 5.77 s\n"
     ]
    }
   ],
   "source": [
    "%%time\n",
    "from sklearn.ensemble import RandomForestClassifier\n",
    "clf_rf1 = RandomForestClassifier(random_state =1)\n",
    "clf_rf1.fit(X_train, y_train)\n",
    "print('Train Accuracy: ', clf_rf1.score(X_SMOTE, y_SMOTE))\n",
    "print('Test Accuracy: ', clf_rf1.score(X_test, y_test))\n",
    "\n",
    "# Predicting Test Set\n",
    "y_pred_rf = clf_rf1.predict(X_test)\n",
    "acc = accuracy_score(y_test, y_pred_rf)\n",
    "prec = precision_score(y_test, y_pred_rf)\n",
    "rec = recall_score(y_test, y_pred_rf)\n",
    "f1 = f1_score(y_test, y_pred_rf)\n",
    "\n",
    "model_results = pd.DataFrame([['Random Forest(Gini)', acc, prec, rec, f1]],\n",
    "               columns = ['Model', 'Accuracy', 'Precision', 'Recall', 'F1 Score'])\n",
    "\n",
    "results = results.append(model_results, ignore_index = True)\n",
    "print(results)"
   ]
  },
  {
   "cell_type": "code",
   "execution_count": 36,
   "metadata": {},
   "outputs": [
    {
     "name": "stdout",
     "output_type": "stream",
     "text": [
      "                              Model  Accuracy  Precision    Recall  F1 Score\n",
      "0               Logistic Regression  0.784533   0.000000  0.000000  0.000000\n",
      "1  Logistic Regression - with SMOTE  0.548533   0.287157  0.738861  0.413578\n",
      "2                     Decision Tree  0.712533   0.362525  0.440594  0.397765\n",
      "3               Random Forest(Gini)  0.822933   0.665138  0.358911  0.466238\n",
      "4            Random Forest(Entropy)  0.818667   0.650235  0.342822  0.448947\n"
     ]
    }
   ],
   "source": [
    "from sklearn.ensemble import RandomForestClassifier\n",
    "clf_rf2 = RandomForestClassifier(criterion='entropy', random_state =1)\n",
    "clf_rf2.fit(X_train, y_train)\n",
    "\n",
    "# Predicting Test Set\n",
    "y_pred_rf = clf_rf2.predict(X_test)\n",
    "acc = accuracy_score(y_test, y_pred_rf)\n",
    "prec = precision_score(y_test, y_pred_rf)\n",
    "rec = recall_score(y_test, y_pred_rf)\n",
    "f1 = f1_score(y_test, y_pred_rf)\n",
    "\n",
    "model_results = pd.DataFrame([['Random Forest(Entropy)', acc, prec, rec, f1]],\n",
    "               columns = ['Model', 'Accuracy', 'Precision', 'Recall', 'F1 Score'])\n",
    "\n",
    "results = results.append(model_results, ignore_index = True)\n",
    "print(results)"
   ]
  },
  {
   "cell_type": "markdown",
   "metadata": {},
   "source": [
    "- ### Top 5 Features"
   ]
  },
  {
   "cell_type": "markdown",
   "metadata": {},
   "source": [
    "> Random Forest"
   ]
  },
  {
   "cell_type": "code",
   "execution_count": 37,
   "metadata": {},
   "outputs": [
    {
     "data": {
      "text/html": [
       "<div>\n",
       "<style scoped>\n",
       "    .dataframe tbody tr th:only-of-type {\n",
       "        vertical-align: middle;\n",
       "    }\n",
       "\n",
       "    .dataframe tbody tr th {\n",
       "        vertical-align: top;\n",
       "    }\n",
       "\n",
       "    .dataframe thead th {\n",
       "        text-align: right;\n",
       "    }\n",
       "</style>\n",
       "<table border=\"1\" class=\"dataframe\">\n",
       "  <thead>\n",
       "    <tr style=\"text-align: right;\">\n",
       "      <th></th>\n",
       "      <th>features</th>\n",
       "      <th>score</th>\n",
       "    </tr>\n",
       "  </thead>\n",
       "  <tbody>\n",
       "    <tr>\n",
       "      <th>2</th>\n",
       "      <td>PAY_0</td>\n",
       "      <td>0.077459</td>\n",
       "    </tr>\n",
       "    <tr>\n",
       "      <th>1</th>\n",
       "      <td>AGE</td>\n",
       "      <td>0.063369</td>\n",
       "    </tr>\n",
       "    <tr>\n",
       "      <th>8</th>\n",
       "      <td>BILL_AMT1</td>\n",
       "      <td>0.061003</td>\n",
       "    </tr>\n",
       "    <tr>\n",
       "      <th>0</th>\n",
       "      <td>LIMIT_BAL</td>\n",
       "      <td>0.060875</td>\n",
       "    </tr>\n",
       "    <tr>\n",
       "      <th>10</th>\n",
       "      <td>BILL_AMT3</td>\n",
       "      <td>0.052561</td>\n",
       "    </tr>\n",
       "    <tr>\n",
       "      <th>9</th>\n",
       "      <td>BILL_AMT2</td>\n",
       "      <td>0.052128</td>\n",
       "    </tr>\n",
       "    <tr>\n",
       "      <th>13</th>\n",
       "      <td>BILL_AMT6</td>\n",
       "      <td>0.050992</td>\n",
       "    </tr>\n",
       "    <tr>\n",
       "      <th>11</th>\n",
       "      <td>BILL_AMT4</td>\n",
       "      <td>0.050705</td>\n",
       "    </tr>\n",
       "    <tr>\n",
       "      <th>14</th>\n",
       "      <td>PAY_AMT1</td>\n",
       "      <td>0.050518</td>\n",
       "    </tr>\n",
       "    <tr>\n",
       "      <th>15</th>\n",
       "      <td>PAY_AMT2</td>\n",
       "      <td>0.050306</td>\n",
       "    </tr>\n",
       "  </tbody>\n",
       "</table>\n",
       "</div>"
      ],
      "text/plain": [
       "     features     score\n",
       "2       PAY_0  0.077459\n",
       "1         AGE  0.063369\n",
       "8   BILL_AMT1  0.061003\n",
       "0   LIMIT_BAL  0.060875\n",
       "10  BILL_AMT3  0.052561\n",
       "9   BILL_AMT2  0.052128\n",
       "13  BILL_AMT6  0.050992\n",
       "11  BILL_AMT4  0.050705\n",
       "14   PAY_AMT1  0.050518\n",
       "15   PAY_AMT2  0.050306"
      ]
     },
     "execution_count": 37,
     "metadata": {},
     "output_type": "execute_result"
    }
   ],
   "source": [
    "result_rf = pd.DataFrame({'features':X_train.columns,'score':clf_rf2.feature_importances_.tolist()})\n",
    "result_rf.sort_values(by=['score'], ascending= False).head(10)"
   ]
  },
  {
   "cell_type": "markdown",
   "metadata": {},
   "source": [
    "- ### Applying  KNN"
   ]
  },
  {
   "cell_type": "code",
   "execution_count": 38,
   "metadata": {},
   "outputs": [],
   "source": [
    "from sklearn.neighbors import KNeighborsClassifier"
   ]
  },
  {
   "cell_type": "code",
   "execution_count": 39,
   "metadata": {},
   "outputs": [
    {
     "name": "stdout",
     "output_type": "stream",
     "text": [
      "Train Accuracy:  0.7884330484330484\n",
      "Test Accuracy:  0.6208\n",
      "Wall time: 7.92 s\n"
     ]
    }
   ],
   "source": [
    "%%time\n",
    "knn = KNeighborsClassifier(n_neighbors=10)\n",
    "knn.fit(X_SMOTE, y_SMOTE)\n",
    "print('Train Accuracy: ', knn.score(X_SMOTE, y_SMOTE))\n",
    "print('Test Accuracy: ', knn.score(X_test, y_test))"
   ]
  },
  {
   "cell_type": "code",
   "execution_count": 40,
   "metadata": {},
   "outputs": [
    {
     "name": "stdout",
     "output_type": "stream",
     "text": [
      "                              Model  Accuracy  Precision    Recall  F1 Score\n",
      "0               Logistic Regression  0.784533   0.000000  0.000000  0.000000\n",
      "1  Logistic Regression - with SMOTE  0.548533   0.287157  0.738861  0.413578\n",
      "2                     Decision Tree  0.712533   0.362525  0.440594  0.397765\n",
      "3               Random Forest(Gini)  0.822933   0.665138  0.358911  0.466238\n",
      "4            Random Forest(Entropy)  0.818667   0.650235  0.342822  0.448947\n",
      "5                  KNN-10 neigbours  0.620800   0.285315  0.504950  0.364611\n"
     ]
    }
   ],
   "source": [
    "# Predicting Test Set N=10\n",
    "pred_knn10= knn.predict(X_test)\n",
    "acc = accuracy_score(y_test, pred_knn10)\n",
    "prec = precision_score(y_test, pred_knn10)\n",
    "rec = recall_score(y_test, pred_knn10)\n",
    "f1 = f1_score(y_test, pred_knn10)\n",
    "\n",
    "model_results = pd.DataFrame([['KNN-10 neigbours', acc, prec, rec, f1]],\n",
    "               columns = ['Model', 'Accuracy', 'Precision', 'Recall', 'F1 Score'])\n",
    "\n",
    "results = results.append(model_results, ignore_index = True)\n",
    "\n",
    "print(results)"
   ]
  },
  {
   "cell_type": "markdown",
   "metadata": {},
   "source": [
    "#### <font color = darkorange>But KNN has a Linear component!"
   ]
  },
  {
   "cell_type": "code",
   "execution_count": 41,
   "metadata": {},
   "outputs": [
    {
     "data": {
      "text/html": [
       "<div>\n",
       "<style scoped>\n",
       "    .dataframe tbody tr th:only-of-type {\n",
       "        vertical-align: middle;\n",
       "    }\n",
       "\n",
       "    .dataframe tbody tr th {\n",
       "        vertical-align: top;\n",
       "    }\n",
       "\n",
       "    .dataframe thead th {\n",
       "        text-align: right;\n",
       "    }\n",
       "</style>\n",
       "<table border=\"1\" class=\"dataframe\">\n",
       "  <thead>\n",
       "    <tr style=\"text-align: right;\">\n",
       "      <th></th>\n",
       "      <th>LIMIT_BAL</th>\n",
       "      <th>AGE</th>\n",
       "      <th>PAY_0</th>\n",
       "      <th>PAY_2</th>\n",
       "      <th>PAY_3</th>\n",
       "      <th>PAY_4</th>\n",
       "      <th>PAY_5</th>\n",
       "      <th>PAY_6</th>\n",
       "      <th>BILL_AMT1</th>\n",
       "      <th>BILL_AMT2</th>\n",
       "      <th>BILL_AMT3</th>\n",
       "      <th>BILL_AMT4</th>\n",
       "      <th>BILL_AMT5</th>\n",
       "      <th>BILL_AMT6</th>\n",
       "      <th>PAY_AMT1</th>\n",
       "      <th>PAY_AMT2</th>\n",
       "      <th>PAY_AMT3</th>\n",
       "      <th>PAY_AMT4</th>\n",
       "      <th>PAY_AMT5</th>\n",
       "      <th>PAY_AMT6</th>\n",
       "      <th>EDUCATION_0</th>\n",
       "      <th>EDUCATION_1</th>\n",
       "      <th>EDUCATION_2</th>\n",
       "      <th>EDUCATION_3</th>\n",
       "      <th>EDUCATION_4</th>\n",
       "      <th>EDUCATION_5</th>\n",
       "      <th>EDUCATION_6</th>\n",
       "      <th>SEX_1</th>\n",
       "      <th>SEX_2</th>\n",
       "      <th>MARRIAGE_0</th>\n",
       "      <th>MARRIAGE_1</th>\n",
       "      <th>MARRIAGE_2</th>\n",
       "      <th>MARRIAGE_3</th>\n",
       "    </tr>\n",
       "  </thead>\n",
       "  <tbody>\n",
       "    <tr>\n",
       "      <th>0</th>\n",
       "      <td>670000.0</td>\n",
       "      <td>28</td>\n",
       "      <td>0</td>\n",
       "      <td>0</td>\n",
       "      <td>0</td>\n",
       "      <td>0</td>\n",
       "      <td>0</td>\n",
       "      <td>0</td>\n",
       "      <td>88612.0</td>\n",
       "      <td>91137.0</td>\n",
       "      <td>99314.0</td>\n",
       "      <td>95292.0</td>\n",
       "      <td>63782.0</td>\n",
       "      <td>41114.0</td>\n",
       "      <td>5000.0</td>\n",
       "      <td>10000.0</td>\n",
       "      <td>4500.0</td>\n",
       "      <td>6000.0</td>\n",
       "      <td>1300.0</td>\n",
       "      <td>3000.0</td>\n",
       "      <td>0</td>\n",
       "      <td>1</td>\n",
       "      <td>0</td>\n",
       "      <td>0</td>\n",
       "      <td>0</td>\n",
       "      <td>0</td>\n",
       "      <td>0</td>\n",
       "      <td>1</td>\n",
       "      <td>0</td>\n",
       "      <td>0</td>\n",
       "      <td>0</td>\n",
       "      <td>1</td>\n",
       "      <td>0</td>\n",
       "    </tr>\n",
       "    <tr>\n",
       "      <th>1</th>\n",
       "      <td>100000.0</td>\n",
       "      <td>42</td>\n",
       "      <td>0</td>\n",
       "      <td>0</td>\n",
       "      <td>0</td>\n",
       "      <td>0</td>\n",
       "      <td>0</td>\n",
       "      <td>-2</td>\n",
       "      <td>61618.0</td>\n",
       "      <td>60380.0</td>\n",
       "      <td>58567.0</td>\n",
       "      <td>79527.0</td>\n",
       "      <td>18950.0</td>\n",
       "      <td>19667.0</td>\n",
       "      <td>2406.0</td>\n",
       "      <td>2200.0</td>\n",
       "      <td>22004.0</td>\n",
       "      <td>656.0</td>\n",
       "      <td>1000.0</td>\n",
       "      <td>396.0</td>\n",
       "      <td>0</td>\n",
       "      <td>1</td>\n",
       "      <td>0</td>\n",
       "      <td>0</td>\n",
       "      <td>0</td>\n",
       "      <td>0</td>\n",
       "      <td>0</td>\n",
       "      <td>0</td>\n",
       "      <td>1</td>\n",
       "      <td>0</td>\n",
       "      <td>0</td>\n",
       "      <td>1</td>\n",
       "      <td>0</td>\n",
       "    </tr>\n",
       "    <tr>\n",
       "      <th>2</th>\n",
       "      <td>70000.0</td>\n",
       "      <td>29</td>\n",
       "      <td>0</td>\n",
       "      <td>0</td>\n",
       "      <td>0</td>\n",
       "      <td>0</td>\n",
       "      <td>0</td>\n",
       "      <td>0</td>\n",
       "      <td>68540.0</td>\n",
       "      <td>64645.0</td>\n",
       "      <td>66460.0</td>\n",
       "      <td>46988.0</td>\n",
       "      <td>43530.0</td>\n",
       "      <td>44804.0</td>\n",
       "      <td>3000.0</td>\n",
       "      <td>3000.0</td>\n",
       "      <td>2000.0</td>\n",
       "      <td>2500.0</td>\n",
       "      <td>2000.0</td>\n",
       "      <td>2000.0</td>\n",
       "      <td>0</td>\n",
       "      <td>0</td>\n",
       "      <td>1</td>\n",
       "      <td>0</td>\n",
       "      <td>0</td>\n",
       "      <td>0</td>\n",
       "      <td>0</td>\n",
       "      <td>1</td>\n",
       "      <td>0</td>\n",
       "      <td>0</td>\n",
       "      <td>1</td>\n",
       "      <td>0</td>\n",
       "      <td>0</td>\n",
       "    </tr>\n",
       "    <tr>\n",
       "      <th>3</th>\n",
       "      <td>150000.0</td>\n",
       "      <td>43</td>\n",
       "      <td>0</td>\n",
       "      <td>0</td>\n",
       "      <td>0</td>\n",
       "      <td>0</td>\n",
       "      <td>0</td>\n",
       "      <td>-2</td>\n",
       "      <td>17541.0</td>\n",
       "      <td>19021.0</td>\n",
       "      <td>7861.0</td>\n",
       "      <td>7691.0</td>\n",
       "      <td>0.0</td>\n",
       "      <td>0.0</td>\n",
       "      <td>2000.0</td>\n",
       "      <td>2000.0</td>\n",
       "      <td>2000.0</td>\n",
       "      <td>0.0</td>\n",
       "      <td>0.0</td>\n",
       "      <td>0.0</td>\n",
       "      <td>0</td>\n",
       "      <td>0</td>\n",
       "      <td>0</td>\n",
       "      <td>1</td>\n",
       "      <td>0</td>\n",
       "      <td>0</td>\n",
       "      <td>0</td>\n",
       "      <td>0</td>\n",
       "      <td>1</td>\n",
       "      <td>0</td>\n",
       "      <td>1</td>\n",
       "      <td>0</td>\n",
       "      <td>0</td>\n",
       "    </tr>\n",
       "    <tr>\n",
       "      <th>4</th>\n",
       "      <td>100000.0</td>\n",
       "      <td>48</td>\n",
       "      <td>-2</td>\n",
       "      <td>-2</td>\n",
       "      <td>-2</td>\n",
       "      <td>-2</td>\n",
       "      <td>-2</td>\n",
       "      <td>-2</td>\n",
       "      <td>2422.0</td>\n",
       "      <td>894.0</td>\n",
       "      <td>0.0</td>\n",
       "      <td>0.0</td>\n",
       "      <td>1639.0</td>\n",
       "      <td>923.0</td>\n",
       "      <td>894.0</td>\n",
       "      <td>0.0</td>\n",
       "      <td>0.0</td>\n",
       "      <td>1639.0</td>\n",
       "      <td>923.0</td>\n",
       "      <td>0.0</td>\n",
       "      <td>0</td>\n",
       "      <td>0</td>\n",
       "      <td>0</td>\n",
       "      <td>1</td>\n",
       "      <td>0</td>\n",
       "      <td>0</td>\n",
       "      <td>0</td>\n",
       "      <td>0</td>\n",
       "      <td>1</td>\n",
       "      <td>0</td>\n",
       "      <td>0</td>\n",
       "      <td>1</td>\n",
       "      <td>0</td>\n",
       "    </tr>\n",
       "  </tbody>\n",
       "</table>\n",
       "</div>"
      ],
      "text/plain": [
       "   LIMIT_BAL  AGE  PAY_0  PAY_2  PAY_3  PAY_4  PAY_5  PAY_6  BILL_AMT1  \\\n",
       "0   670000.0   28      0      0      0      0      0      0    88612.0   \n",
       "1   100000.0   42      0      0      0      0      0     -2    61618.0   \n",
       "2    70000.0   29      0      0      0      0      0      0    68540.0   \n",
       "3   150000.0   43      0      0      0      0      0     -2    17541.0   \n",
       "4   100000.0   48     -2     -2     -2     -2     -2     -2     2422.0   \n",
       "\n",
       "   BILL_AMT2  BILL_AMT3  BILL_AMT4  BILL_AMT5  BILL_AMT6  PAY_AMT1  PAY_AMT2  \\\n",
       "0    91137.0    99314.0    95292.0    63782.0    41114.0    5000.0   10000.0   \n",
       "1    60380.0    58567.0    79527.0    18950.0    19667.0    2406.0    2200.0   \n",
       "2    64645.0    66460.0    46988.0    43530.0    44804.0    3000.0    3000.0   \n",
       "3    19021.0     7861.0     7691.0        0.0        0.0    2000.0    2000.0   \n",
       "4      894.0        0.0        0.0     1639.0      923.0     894.0       0.0   \n",
       "\n",
       "   PAY_AMT3  PAY_AMT4  PAY_AMT5  PAY_AMT6  EDUCATION_0  EDUCATION_1  \\\n",
       "0    4500.0    6000.0    1300.0    3000.0            0            1   \n",
       "1   22004.0     656.0    1000.0     396.0            0            1   \n",
       "2    2000.0    2500.0    2000.0    2000.0            0            0   \n",
       "3    2000.0       0.0       0.0       0.0            0            0   \n",
       "4       0.0    1639.0     923.0       0.0            0            0   \n",
       "\n",
       "   EDUCATION_2  EDUCATION_3  EDUCATION_4  EDUCATION_5  EDUCATION_6  SEX_1  \\\n",
       "0            0            0            0            0            0      1   \n",
       "1            0            0            0            0            0      0   \n",
       "2            1            0            0            0            0      1   \n",
       "3            0            1            0            0            0      0   \n",
       "4            0            1            0            0            0      0   \n",
       "\n",
       "   SEX_2  MARRIAGE_0  MARRIAGE_1  MARRIAGE_2  MARRIAGE_3  \n",
       "0      0           0           0           1           0  \n",
       "1      1           0           0           1           0  \n",
       "2      0           0           1           0           0  \n",
       "3      1           0           1           0           0  \n",
       "4      1           0           0           1           0  "
      ]
     },
     "execution_count": 41,
     "metadata": {},
     "output_type": "execute_result"
    }
   ],
   "source": [
    "X_SMOTE.head()"
   ]
  },
  {
   "cell_type": "code",
   "execution_count": 42,
   "metadata": {},
   "outputs": [],
   "source": [
    "continous_cols = ['LIMIT_BAL', 'AGE', 'BILL_AMT1', 'BILL_AMT2', 'BILL_AMT3', 'BILL_AMT4',\n",
    "       'BILL_AMT5', 'BILL_AMT6', 'PAY_AMT1', 'PAY_AMT2', 'PAY_AMT3', 'PAY_AMT4', 'PAY_AMT5', 'PAY_AMT6']"
   ]
  },
  {
   "cell_type": "code",
   "execution_count": 43,
   "metadata": {},
   "outputs": [],
   "source": [
    "from sklearn.preprocessing import StandardScaler"
   ]
  },
  {
   "cell_type": "code",
   "execution_count": 44,
   "metadata": {},
   "outputs": [
    {
     "name": "stderr",
     "output_type": "stream",
     "text": [
      "C:\\Users\\Apoorv\\anaconda3\\envs\\ml2\\lib\\site-packages\\pandas\\core\\indexing.py:966: SettingWithCopyWarning: \n",
      "A value is trying to be set on a copy of a slice from a DataFrame.\n",
      "Try using .loc[row_indexer,col_indexer] = value instead\n",
      "\n",
      "See the caveats in the documentation: https://pandas.pydata.org/pandas-docs/stable/user_guide/indexing.html#returning-a-view-versus-a-copy\n",
      "  self.obj[item] = s\n"
     ]
    }
   ],
   "source": [
    "ss = StandardScaler()\n",
    "X_SMOTE.loc[:, continous_cols] = ss.fit_transform(X_SMOTE.loc[:, continous_cols])\n",
    "X_test.loc[:, continous_cols] = ss.transform(X_test.loc[:, continous_cols])"
   ]
  },
  {
   "cell_type": "code",
   "execution_count": 45,
   "metadata": {},
   "outputs": [
    {
     "name": "stdout",
     "output_type": "stream",
     "text": [
      "Train Accuracy:  0.9156695156695157\n",
      "Test Accuracy:  0.7376\n",
      "Wall time: 42.2 s\n"
     ]
    }
   ],
   "source": [
    "%%time\n",
    "knn3 = KNeighborsClassifier(n_neighbors=3)\n",
    "knn3.fit(X_SMOTE, y_SMOTE)\n",
    "print('Train Accuracy: ', knn3.score(X_SMOTE, y_SMOTE))\n",
    "print('Test Accuracy: ', knn3.score(X_test, y_test))"
   ]
  },
  {
   "cell_type": "code",
   "execution_count": 46,
   "metadata": {},
   "outputs": [
    {
     "name": "stdout",
     "output_type": "stream",
     "text": [
      "Train Accuracy:  0.8658689458689459\n",
      "Test Accuracy:  0.7733333333333333\n",
      "Wall time: 48.8 s\n"
     ]
    }
   ],
   "source": [
    "%%time\n",
    "knn10 = KNeighborsClassifier(n_neighbors=10)\n",
    "knn10.fit(X_SMOTE, y_SMOTE)\n",
    "print('Train Accuracy: ', knn10.score(X_SMOTE, y_SMOTE))\n",
    "print('Test Accuracy: ', knn10.score(X_test, y_test))"
   ]
  },
  {
   "cell_type": "code",
   "execution_count": 47,
   "metadata": {},
   "outputs": [
    {
     "name": "stdout",
     "output_type": "stream",
     "text": [
      "Train Accuracy:  0.8366951566951567\n",
      "Test Accuracy:  0.7784\n",
      "Wall time: 56.2 s\n"
     ]
    }
   ],
   "source": [
    "%%time\n",
    "knn20 = KNeighborsClassifier(n_neighbors=20)\n",
    "knn20.fit(X_SMOTE, y_SMOTE)\n",
    "print('Train Accuracy: ', knn20.score(X_SMOTE, y_SMOTE))\n",
    "print('Test Accuracy: ', knn20.score(X_test, y_test))"
   ]
  },
  {
   "cell_type": "code",
   "execution_count": 48,
   "metadata": {},
   "outputs": [
    {
     "name": "stdout",
     "output_type": "stream",
     "text": [
      "                              Model  Accuracy  Precision    Recall  F1 Score\n",
      "0               Logistic Regression  0.784533   0.000000  0.000000  0.000000\n",
      "1  Logistic Regression - with SMOTE  0.548533   0.287157  0.738861  0.413578\n",
      "2                     Decision Tree  0.712533   0.362525  0.440594  0.397765\n",
      "3               Random Forest(Gini)  0.822933   0.665138  0.358911  0.466238\n",
      "4            Random Forest(Entropy)  0.818667   0.650235  0.342822  0.448947\n",
      "5                  KNN-10 neigbours  0.620800   0.285315  0.504950  0.364611\n",
      "6                         KNN-20 SS  0.778400   0.486455  0.511139  0.498491\n"
     ]
    }
   ],
   "source": [
    "# Predicting Test Set N=20\n",
    "pred_knn20= knn20.predict(X_test)\n",
    "acc = accuracy_score(y_test, pred_knn20)\n",
    "prec = precision_score(y_test, pred_knn20)\n",
    "rec = recall_score(y_test, pred_knn20)\n",
    "f1 = f1_score(y_test, pred_knn20)\n",
    "\n",
    "model_results = pd.DataFrame([['KNN-20 SS', acc, prec, rec, f1]],\n",
    "               columns = ['Model', 'Accuracy', 'Precision', 'Recall', 'F1 Score'])\n",
    "\n",
    "results = results.append(model_results, ignore_index = True)\n",
    "print(results)"
   ]
  },
  {
   "cell_type": "markdown",
   "metadata": {},
   "source": [
    "---"
   ]
  },
  {
   "cell_type": "markdown",
   "metadata": {},
   "source": [
    "- ### Apply Gaussian Naive Bayes"
   ]
  },
  {
   "cell_type": "code",
   "execution_count": 49,
   "metadata": {},
   "outputs": [],
   "source": [
    "from sklearn.naive_bayes import GaussianNB"
   ]
  },
  {
   "cell_type": "code",
   "execution_count": 50,
   "metadata": {},
   "outputs": [
    {
     "name": "stdout",
     "output_type": "stream",
     "text": [
      "Wall time: 50.9 ms\n"
     ]
    },
    {
     "data": {
      "text/plain": [
       "GaussianNB()"
      ]
     },
     "execution_count": 50,
     "metadata": {},
     "output_type": "execute_result"
    }
   ],
   "source": [
    "%%time\n",
    "gnb = GaussianNB()\n",
    "gnb.fit(X_SMOTE, y_SMOTE)"
   ]
  },
  {
   "cell_type": "code",
   "execution_count": 51,
   "metadata": {},
   "outputs": [
    {
     "name": "stdout",
     "output_type": "stream",
     "text": [
      "                              Model  Accuracy  Precision    Recall  F1 Score\n",
      "0               Logistic Regression  0.784533   0.000000  0.000000  0.000000\n",
      "1  Logistic Regression - with SMOTE  0.548533   0.287157  0.738861  0.413578\n",
      "2                     Decision Tree  0.712533   0.362525  0.440594  0.397765\n",
      "3               Random Forest(Gini)  0.822933   0.665138  0.358911  0.466238\n",
      "4            Random Forest(Entropy)  0.818667   0.650235  0.342822  0.448947\n",
      "5                  KNN-10 neigbours  0.620800   0.285315  0.504950  0.364611\n",
      "6                         KNN-20 SS  0.778400   0.486455  0.511139  0.498491\n",
      "7              Gaussian Naive Bayes  0.290133   0.225902  0.945545  0.364678\n"
     ]
    }
   ],
   "source": [
    "# Predicting Test Set\n",
    "pred_gnb = gnb.predict(X_test)\n",
    "acc = accuracy_score(y_test, pred_gnb)\n",
    "prec = precision_score(y_test, pred_gnb)\n",
    "rec = recall_score(y_test, pred_gnb)\n",
    "f1 = f1_score(y_test, pred_gnb)\n",
    "\n",
    "model_results = pd.DataFrame([['Gaussian Naive Bayes', acc, prec, rec, f1]],\n",
    "               columns = ['Model', 'Accuracy', 'Precision', 'Recall', 'F1 Score'])\n",
    "\n",
    "results = results.append(model_results, ignore_index = True)\n",
    "print(results)"
   ]
  },
  {
   "cell_type": "markdown",
   "metadata": {},
   "source": [
    "- ### Apply Bernoulli Naive Bayes"
   ]
  },
  {
   "cell_type": "code",
   "execution_count": 52,
   "metadata": {},
   "outputs": [],
   "source": [
    "from sklearn.naive_bayes import BernoulliNB"
   ]
  },
  {
   "cell_type": "code",
   "execution_count": 53,
   "metadata": {},
   "outputs": [
    {
     "name": "stdout",
     "output_type": "stream",
     "text": [
      "Wall time: 36.9 ms\n"
     ]
    },
    {
     "data": {
      "text/plain": [
       "BernoulliNB()"
      ]
     },
     "execution_count": 53,
     "metadata": {},
     "output_type": "execute_result"
    }
   ],
   "source": [
    "%%time\n",
    "model_bnb = BernoulliNB()\n",
    "model_bnb.fit(X_SMOTE, y_SMOTE)"
   ]
  },
  {
   "cell_type": "code",
   "execution_count": 54,
   "metadata": {},
   "outputs": [
    {
     "name": "stdout",
     "output_type": "stream",
     "text": [
      "                              Model  Accuracy  Precision    Recall  F1 Score\n",
      "0               Logistic Regression  0.784533   0.000000  0.000000  0.000000\n",
      "1  Logistic Regression - with SMOTE  0.548533   0.287157  0.738861  0.413578\n",
      "2                     Decision Tree  0.712533   0.362525  0.440594  0.397765\n",
      "3               Random Forest(Gini)  0.822933   0.665138  0.358911  0.466238\n",
      "4            Random Forest(Entropy)  0.818667   0.650235  0.342822  0.448947\n",
      "5                  KNN-10 neigbours  0.620800   0.285315  0.504950  0.364611\n",
      "6                         KNN-20 SS  0.778400   0.486455  0.511139  0.498491\n",
      "7              Gaussian Naive Bayes  0.290133   0.225902  0.945545  0.364678\n",
      "8             Bernoulli Naive Bayes  0.774933   0.479730  0.527228  0.502358\n"
     ]
    }
   ],
   "source": [
    "# Predicting Test Set\n",
    "pred_bnb = model_bnb.predict(X_test)\n",
    "acc = accuracy_score(y_test, pred_bnb)\n",
    "prec = precision_score(y_test, pred_bnb)\n",
    "rec = recall_score(y_test, pred_bnb)\n",
    "f1 = f1_score(y_test, pred_bnb)\n",
    "\n",
    "model_results = pd.DataFrame([['Bernoulli Naive Bayes', acc, prec, rec, f1]],\n",
    "               columns = ['Model', 'Accuracy', 'Precision', 'Recall', 'F1 Score'])\n",
    "\n",
    "results = results.append(model_results, ignore_index = True)\n",
    "print(results)"
   ]
  },
  {
   "cell_type": "markdown",
   "metadata": {},
   "source": [
    "---"
   ]
  },
  {
   "cell_type": "markdown",
   "metadata": {},
   "source": [
    "- ### Apply SVM"
   ]
  },
  {
   "cell_type": "code",
   "execution_count": 55,
   "metadata": {},
   "outputs": [],
   "source": [
    "from sklearn.svm import SVC"
   ]
  },
  {
   "cell_type": "code",
   "execution_count": 56,
   "metadata": {},
   "outputs": [
    {
     "name": "stdout",
     "output_type": "stream",
     "text": [
      "Train Accuracy:  0.8647293447293447\n",
      "Test Accuracy:  0.8197333333333333\n",
      "Wall time: 36.3 s\n"
     ]
    }
   ],
   "source": [
    "%%time\n",
    "model_svm = SVC()\n",
    "model_svm.fit(X_SMOTE, y_SMOTE)\n",
    "print('Train Accuracy: ', model_svm.score(X_SMOTE, y_SMOTE))\n",
    "print('Test Accuracy: ', model_svm.score(X_test, y_test))"
   ]
  },
  {
   "cell_type": "markdown",
   "metadata": {},
   "source": [
    "The model takes lot of time to run.  Hence caution before you run it"
   ]
  },
  {
   "cell_type": "code",
   "execution_count": 57,
   "metadata": {},
   "outputs": [],
   "source": [
    "# %%time\n",
    "# model_svm = SVC(C = 1, gamma= 1)\n",
    "# model_svm.fit(X_SMOTE, y_SMOTE)\n",
    "# print('Train Accuracy: ', model_svm.score(X_SMOTE, y_SMOTE))\n",
    "# print('Test Accuracy: ', model_svm.score(X_test, y_test))"
   ]
  },
  {
   "cell_type": "code",
   "execution_count": 58,
   "metadata": {},
   "outputs": [],
   "source": [
    "# %%time\n",
    "# model_svm = SVC(C = 0.01, gamma= 0.01)\n",
    "# model_svm.fit(X_SMOTE, y_SMOTE)\n",
    "# print('Train Accuracy: ', model_svm.score(X_SMOTE, y_SMOTE))\n",
    "# print('Test Accuracy: ', model_svm.score(X_test, y_test))"
   ]
  },
  {
   "cell_type": "code",
   "execution_count": 59,
   "metadata": {},
   "outputs": [
    {
     "name": "stdout",
     "output_type": "stream",
     "text": [
      "Train Accuracy:  0.8366951566951567\n",
      "Test Accuracy:  0.812\n",
      "Wall time: 44.1 s\n"
     ]
    }
   ],
   "source": [
    "%%time\n",
    "model_svm = SVC(C = 0.1, gamma= 0.05)\n",
    "model_svm.fit(X_SMOTE, y_SMOTE)\n",
    "print('Train Accuracy: ', model_svm.score(X_SMOTE, y_SMOTE))\n",
    "print('Test Accuracy: ', model_svm.score(X_test, y_test))"
   ]
  },
  {
   "cell_type": "code",
   "execution_count": 60,
   "metadata": {},
   "outputs": [
    {
     "name": "stdout",
     "output_type": "stream",
     "text": [
      "                              Model  Accuracy  Precision    Recall  F1 Score\n",
      "0               Logistic Regression  0.784533   0.000000  0.000000  0.000000\n",
      "1  Logistic Regression - with SMOTE  0.548533   0.287157  0.738861  0.413578\n",
      "2                     Decision Tree  0.712533   0.362525  0.440594  0.397765\n",
      "3               Random Forest(Gini)  0.822933   0.665138  0.358911  0.466238\n",
      "4            Random Forest(Entropy)  0.818667   0.650235  0.342822  0.448947\n",
      "5                  KNN-10 neigbours  0.620800   0.285315  0.504950  0.364611\n",
      "6                         KNN-20 SS  0.778400   0.486455  0.511139  0.498491\n",
      "7              Gaussian Naive Bayes  0.290133   0.225902  0.945545  0.364678\n",
      "8             Bernoulli Naive Bayes  0.774933   0.479730  0.527228  0.502358\n",
      "9            Support Vector Machine  0.812000   0.591474  0.412129  0.485777\n"
     ]
    }
   ],
   "source": [
    "# Predicting Test Set\n",
    "predicted= model_svm.predict(X_test)\n",
    "\n",
    "acc = accuracy_score(y_test, predicted)\n",
    "prec = precision_score(y_test, predicted,zero_division=True)\n",
    "rec = recall_score(y_test, predicted,zero_division=True)\n",
    "f1 = f1_score(y_test, predicted,zero_division=True)\n",
    "\n",
    "model_results = pd.DataFrame([['Support Vector Machine', acc, prec, rec, f1]],\n",
    "               columns = ['Model', 'Accuracy', 'Precision', 'Recall', 'F1 Score'])\n",
    "\n",
    "results = results.append(model_results, ignore_index = True)\n",
    "print(results)"
   ]
  },
  {
   "cell_type": "markdown",
   "metadata": {},
   "source": [
    "---\n",
    "---"
   ]
  },
  {
   "cell_type": "markdown",
   "metadata": {},
   "source": [
    "- ### Which model fits the best?"
   ]
  },
  {
   "cell_type": "markdown",
   "metadata": {},
   "source": [
    "- #### Check Best Accuracy"
   ]
  },
  {
   "cell_type": "code",
   "execution_count": 61,
   "metadata": {},
   "outputs": [
    {
     "data": {
      "image/png": "[encoded data removed]",
      "text/plain": [
       "<Figure size 576x360 with 1 Axes>"
      ]
     },
     "metadata": {
      "needs_background": "light"
     },
     "output_type": "display_data"
    }
   ],
   "source": [
    "plt.figure(figsize=(8,5))\n",
    "max_acc_index= results.Accuracy.argmax()\n",
    "plt.barh(results.Model, results.Accuracy, color='c')\n",
    "plt.barh(results.Model[max_acc_index], results.Accuracy[max_acc_index], color='m')\n",
    "plt.show()"
   ]
  },
  {
   "cell_type": "markdown",
   "metadata": {},
   "source": [
    "- #### Check Best Precision"
   ]
  },
  {
   "cell_type": "code",
   "execution_count": 62,
   "metadata": {},
   "outputs": [
    {
     "data": {
      "image/png": "[encoded data removed]",
      "text/plain": [
       "<Figure size 576x360 with 1 Axes>"
      ]
     },
     "metadata": {
      "needs_background": "light"
     },
     "output_type": "display_data"
    }
   ],
   "source": [
    "plt.figure(figsize=(8,5))\n",
    "max_pre_index= results.Precision.argmax()\n",
    "plt.barh(results.Model,results.Precision,color='c')\n",
    "plt.barh(results.Model[max_pre_index],results.Precision[max_pre_index],color='m')\n",
    "plt.show()"
   ]
  },
  {
   "cell_type": "markdown",
   "metadata": {},
   "source": [
    "- #### Check Best Recall"
   ]
  },
  {
   "cell_type": "code",
   "execution_count": 63,
   "metadata": {},
   "outputs": [
    {
     "data": {
      "image/png": "[encoded data removed]",
      "text/plain": [
       "<Figure size 576x360 with 1 Axes>"
      ]
     },
     "metadata": {
      "needs_background": "light"
     },
     "output_type": "display_data"
    }
   ],
   "source": [
    "plt.figure(figsize=(8,5))\n",
    "max_rc_index= results.Recall.argmax()\n",
    "plt.barh(results.Model,results.Recall,color='c')\n",
    "plt.barh(results.Model[max_rc_index],results.Recall[max_rc_index],color='m')\n",
    "plt.show()"
   ]
  },
  {
   "cell_type": "markdown",
   "metadata": {},
   "source": [
    "- #### Best F1-Score"
   ]
  },
  {
   "cell_type": "code",
   "execution_count": 64,
   "metadata": {},
   "outputs": [
    {
     "data": {
      "image/png": "[encoded data removed]",
      "text/plain": [
       "<Figure size 576x360 with 1 Axes>"
      ]
     },
     "metadata": {
      "needs_background": "light"
     },
     "output_type": "display_data"
    }
   ],
   "source": [
    "plt.figure(figsize=(8,5))\n",
    "max_f1_index= results['F1 Score'].argmax()\n",
    "plt.barh(results.Model,results['F1 Score'], color='c')\n",
    "plt.barh(results.Model[max_f1_index], results['F1 Score'][max_f1_index],color='m')\n",
    "plt.show()"
   ]
  },
  {
   "cell_type": "markdown",
   "metadata": {},
   "source": [
    "Based on accuracy Random Forest(Gini) is the best model. On considering other parameters of the model it is performing well."
   ]
  },
  {
   "cell_type": "markdown",
   "metadata": {},
   "source": [
    "<b><i>Conclusion</i></b>: In this demonstration of the case study, we have gained an understanding of how to apply various data pre-processing steps, apply SMOTE and different classification algorithms."
   ]
  },
  {
   "cell_type": "markdown",
   "metadata": {},
   "source": [
    "---"
   ]
  },
  {
   "cell_type": "markdown",
   "metadata": {},
   "source": [
    "## Another way to create better models using Decision Tree: Ensembling\n",
    "\n",
    "### Ensemble Models:\n",
    "* #### Bagging: \n",
    "    * Generalises better on Training set. Protects against overfitting\n",
    "* #### Boosting: \n",
    "    * Performs better on Training set. Prone to Overfitting\n",
    "* #### Although in practice Bagging and Boosting are more popular with decision trees, in theory they can be used with any other models as well"
   ]
  },
  {
   "cell_type": "markdown",
   "metadata": {},
   "source": [
    "### Boosting: \n",
    "* #### Adaptive Boosting\n",
    "* #### Gradient Boosting"
   ]
  },
  {
   "cell_type": "markdown",
   "metadata": {},
   "source": [
    "- ### Apply ADABOOST"
   ]
  },
  {
   "cell_type": "code",
   "execution_count": 65,
   "metadata": {},
   "outputs": [],
   "source": [
    "from sklearn.ensemble import AdaBoostClassifier"
   ]
  },
  {
   "cell_type": "code",
   "execution_count": 67,
   "metadata": {},
   "outputs": [],
   "source": [
    "AdaBoostClassifier?"
   ]
  },
  {
   "cell_type": "code",
   "execution_count": 73,
   "metadata": {},
   "outputs": [
    {
     "name": "stdout",
     "output_type": "stream",
     "text": [
      "Train Accuracy:  0.857037037037037\n",
      "Test Accuracy:  0.8130666666666667\n",
      "Wall time: 3.32 s\n"
     ]
    }
   ],
   "source": [
    "%%time\n",
    "model_ada = AdaBoostClassifier(n_estimators=50)\n",
    "model_ada.fit(X_SMOTE, y_SMOTE)\n",
    "print('Train Accuracy: ', model_ada.score(X_SMOTE, y_SMOTE))\n",
    "print('Test Accuracy: ', model_ada.score(X_test, y_test))"
   ]
  },
  {
   "cell_type": "code",
   "execution_count": null,
   "metadata": {},
   "outputs": [],
   "source": [
    "dt = DecisionTreeClassifier(max_depth= 3)"
   ]
  },
  {
   "cell_type": "code",
   "execution_count": 72,
   "metadata": {},
   "outputs": [
    {
     "name": "stdout",
     "output_type": "stream",
     "text": [
      "Train Accuracy:  0.8807977207977208\n",
      "Test Accuracy:  0.7944\n",
      "Wall time: 7.49 s\n"
     ]
    }
   ],
   "source": [
    "%%time\n",
    "model_ada = AdaBoostClassifier(base_estimator= dt, n_estimators=50)\n",
    "model_ada.fit(X_SMOTE, y_SMOTE)\n",
    "print('Train Accuracy: ', model_ada.score(X_SMOTE, y_SMOTE))\n",
    "print('Test Accuracy: ', model_ada.score(X_test, y_test))"
   ]
  },
  {
   "cell_type": "code",
   "execution_count": 76,
   "metadata": {},
   "outputs": [
    {
     "name": "stdout",
     "output_type": "stream",
     "text": [
      "Train Accuracy:  0.8599430199430199\n",
      "Test Accuracy:  0.8170666666666667\n",
      "Wall time: 6.59 s\n"
     ]
    }
   ],
   "source": [
    "%%time\n",
    "model_ada = AdaBoostClassifier(n_estimators= 100, random_state =1)\n",
    "model_ada.fit(X_SMOTE, y_SMOTE)\n",
    "print('Train Accuracy: ', model_ada.score(X_SMOTE, y_SMOTE))\n",
    "print('Test Accuracy: ', model_ada.score(X_test, y_test))"
   ]
  },
  {
   "cell_type": "code",
   "execution_count": 77,
   "metadata": {},
   "outputs": [
    {
     "name": "stdout",
     "output_type": "stream",
     "text": [
      "                               Model  Accuracy  Precision    Recall  F1 Score\n",
      "0                Logistic Regression  0.784533   0.000000  0.000000  0.000000\n",
      "1   Logistic Regression - with SMOTE  0.548533   0.287157  0.738861  0.413578\n",
      "2                      Decision Tree  0.712533   0.362525  0.440594  0.397765\n",
      "3                Random Forest(Gini)  0.822933   0.665138  0.358911  0.466238\n",
      "4             Random Forest(Entropy)  0.818667   0.650235  0.342822  0.448947\n",
      "5                   KNN-10 neigbours  0.620800   0.285315  0.504950  0.364611\n",
      "6                          KNN-20 SS  0.778400   0.486455  0.511139  0.498491\n",
      "7               Gaussian Naive Bayes  0.290133   0.225902  0.945545  0.364678\n",
      "8              Bernoulli Naive Bayes  0.774933   0.479730  0.527228  0.502358\n",
      "9             Support Vector Machine  0.812000   0.591474  0.412129  0.485777\n",
      "10                          Adaboost  0.817067   0.611722  0.413366  0.493353\n"
     ]
    }
   ],
   "source": [
    "# Predicting Test Set\n",
    "predicted= model_ada.predict(X_test)\n",
    "\n",
    "acc = accuracy_score(y_test, predicted)\n",
    "prec = precision_score(y_test, predicted,zero_division=True)\n",
    "rec = recall_score(y_test, predicted,zero_division=True)\n",
    "f1 = f1_score(y_test, predicted,zero_division=True)\n",
    "\n",
    "model_results = pd.DataFrame([['Adaboost', acc, prec, rec, f1]],\n",
    "               columns = ['Model', 'Accuracy', 'Precision', 'Recall', 'F1 Score'])\n",
    "\n",
    "results = results.append(model_results, ignore_index = True)\n",
    "print(results)"
   ]
  },
  {
   "cell_type": "markdown",
   "metadata": {},
   "source": [
    "---"
   ]
  },
  {
   "cell_type": "markdown",
   "metadata": {},
   "source": [
    "- ### Apply Gradient Boost"
   ]
  },
  {
   "cell_type": "code",
   "execution_count": 78,
   "metadata": {},
   "outputs": [],
   "source": [
    "from sklearn.ensemble import GradientBoostingClassifier"
   ]
  },
  {
   "cell_type": "code",
   "execution_count": 80,
   "metadata": {},
   "outputs": [],
   "source": [
    "GradientBoostingClassifier?"
   ]
  },
  {
   "cell_type": "code",
   "execution_count": 82,
   "metadata": {},
   "outputs": [
    {
     "name": "stdout",
     "output_type": "stream",
     "text": [
      "Train Accuracy:  0.8656980056980057\n",
      "Test Accuracy:  0.82\n",
      "Wall time: 12.4 s\n"
     ]
    }
   ],
   "source": [
    "%%time\n",
    "model_gbc = GradientBoostingClassifier()\n",
    "model_gbc.fit(X_SMOTE, y_SMOTE)\n",
    "print('Train Accuracy: ', model_gbc.score(X_SMOTE, y_SMOTE))\n",
    "print('Test Accuracy: ', model_gbc.score(X_test, y_test))"
   ]
  },
  {
   "cell_type": "code",
   "execution_count": 83,
   "metadata": {},
   "outputs": [
    {
     "name": "stdout",
     "output_type": "stream",
     "text": [
      "Train Accuracy:  0.858005698005698\n",
      "Test Accuracy:  0.8202666666666667\n",
      "Wall time: 21.4 s\n"
     ]
    }
   ],
   "source": [
    "%%time\n",
    "model_gbc = GradientBoostingClassifier(n_estimators=500, max_depth=1)\n",
    "model_gbc.fit(X_SMOTE, y_SMOTE)\n",
    "print('Train Accuracy: ', model_gbc.score(X_SMOTE, y_SMOTE))\n",
    "print('Test Accuracy: ', model_gbc.score(X_test, y_test))"
   ]
  },
  {
   "cell_type": "code",
   "execution_count": 84,
   "metadata": {},
   "outputs": [
    {
     "name": "stdout",
     "output_type": "stream",
     "text": [
      "                               Model  Accuracy  Precision    Recall  F1 Score\n",
      "0                Logistic Regression  0.784533   0.000000  0.000000  0.000000\n",
      "1   Logistic Regression - with SMOTE  0.548533   0.287157  0.738861  0.413578\n",
      "2                      Decision Tree  0.712533   0.362525  0.440594  0.397765\n",
      "3                Random Forest(Gini)  0.822933   0.665138  0.358911  0.466238\n",
      "4             Random Forest(Entropy)  0.818667   0.650235  0.342822  0.448947\n",
      "5                   KNN-10 neigbours  0.620800   0.285315  0.504950  0.364611\n",
      "6                          KNN-20 SS  0.778400   0.486455  0.511139  0.498491\n",
      "7               Gaussian Naive Bayes  0.290133   0.225902  0.945545  0.364678\n",
      "8              Bernoulli Naive Bayes  0.774933   0.479730  0.527228  0.502358\n",
      "9             Support Vector Machine  0.812000   0.591474  0.412129  0.485777\n",
      "10                          Adaboost  0.817067   0.611722  0.413366  0.493353\n",
      "11                    Gradient Boost  0.820267   0.626415  0.410891  0.496263\n"
     ]
    }
   ],
   "source": [
    "# Predicting Test Set\n",
    "predicted= model_gbc.predict(X_test)\n",
    "\n",
    "acc = accuracy_score(y_test, predicted)\n",
    "prec = precision_score(y_test, predicted,zero_division=True)\n",
    "rec = recall_score(y_test, predicted,zero_division=True)\n",
    "f1 = f1_score(y_test, predicted,zero_division=True)\n",
    "\n",
    "model_results = pd.DataFrame([['Gradient Boost', acc, prec, rec, f1]],\n",
    "               columns = ['Model', 'Accuracy', 'Precision', 'Recall', 'F1 Score'])\n",
    "\n",
    "results = results.append(model_results, ignore_index = True)\n",
    "print(results)"
   ]
  },
  {
   "cell_type": "markdown",
   "metadata": {},
   "source": [
    "---"
   ]
  },
  {
   "cell_type": "markdown",
   "metadata": {},
   "source": [
    "- ### Apply XGBoost"
   ]
  },
  {
   "cell_type": "code",
   "execution_count": 85,
   "metadata": {},
   "outputs": [],
   "source": [
    "from xgboost import XGBClassifier"
   ]
  },
  {
   "cell_type": "code",
   "execution_count": 86,
   "metadata": {},
   "outputs": [
    {
     "name": "stdout",
     "output_type": "stream",
     "text": [
      "Train Accuracy:  0.9515669515669516\n",
      "Test Accuracy:  0.8026666666666666\n",
      "Wall time: 5.79 s\n"
     ]
    }
   ],
   "source": [
    "%%time\n",
    "model_xgb = XGBClassifier()\n",
    "model_xgb.fit(X_SMOTE, y_SMOTE)\n",
    "print('Train Accuracy: ', model_xgb.score(X_SMOTE, y_SMOTE))\n",
    "print('Test Accuracy: ', model_xgb.score(X_test, y_test))"
   ]
  },
  {
   "cell_type": "code",
   "execution_count": 87,
   "metadata": {},
   "outputs": [
    {
     "name": "stdout",
     "output_type": "stream",
     "text": [
      "Train Accuracy:  0.8622222222222222\n",
      "Test Accuracy:  0.8224\n",
      "Wall time: 6.09 s\n"
     ]
    }
   ],
   "source": [
    "%%time\n",
    "model_xgb = XGBClassifier(n_estimators = 500, max_depth = 1, random_state =1)\n",
    "model_xgb.fit(X_SMOTE, y_SMOTE)\n",
    "print('Train Accuracy: ', model_xgb.score(X_SMOTE, y_SMOTE))\n",
    "print('Test Accuracy: ', model_xgb.score(X_test, y_test))"
   ]
  },
  {
   "cell_type": "code",
   "execution_count": 88,
   "metadata": {},
   "outputs": [
    {
     "name": "stdout",
     "output_type": "stream",
     "text": [
      "                               Model  Accuracy  Precision    Recall  F1 Score\n",
      "0                Logistic Regression  0.784533   0.000000  0.000000  0.000000\n",
      "1   Logistic Regression - with SMOTE  0.548533   0.287157  0.738861  0.413578\n",
      "2                      Decision Tree  0.712533   0.362525  0.440594  0.397765\n",
      "3                Random Forest(Gini)  0.822933   0.665138  0.358911  0.466238\n",
      "4             Random Forest(Entropy)  0.818667   0.650235  0.342822  0.448947\n",
      "5                   KNN-10 neigbours  0.620800   0.285315  0.504950  0.364611\n",
      "6                          KNN-20 SS  0.778400   0.486455  0.511139  0.498491\n",
      "7               Gaussian Naive Bayes  0.290133   0.225902  0.945545  0.364678\n",
      "8              Bernoulli Naive Bayes  0.774933   0.479730  0.527228  0.502358\n",
      "9             Support Vector Machine  0.812000   0.591474  0.412129  0.485777\n",
      "10                          Adaboost  0.817067   0.611722  0.413366  0.493353\n",
      "11                    Gradient Boost  0.820267   0.626415  0.410891  0.496263\n",
      "12                           XGBoost  0.822400   0.643725  0.393564  0.488479\n"
     ]
    }
   ],
   "source": [
    "# Predicting Test Set\n",
    "predicted= model_xgb.predict(X_test)\n",
    "\n",
    "acc = accuracy_score(y_test, predicted)\n",
    "prec = precision_score(y_test, predicted,zero_division=True)\n",
    "rec = recall_score(y_test, predicted,zero_division=True)\n",
    "f1 = f1_score(y_test, predicted, zero_division=True)\n",
    "\n",
    "model_results = pd.DataFrame([['XGBoost', acc, prec, rec, f1]],\n",
    "               columns = ['Model', 'Accuracy', 'Precision', 'Recall', 'F1 Score'])\n",
    "\n",
    "results = results.append(model_results, ignore_index = True)\n",
    "print(results)"
   ]
  },
  {
   "cell_type": "markdown",
   "metadata": {},
   "source": [
    "---"
   ]
  },
  {
   "cell_type": "markdown",
   "metadata": {},
   "source": [
    "## Shortlisting 3 models\n",
    "- XGBOOST\n",
    "- Random Forest ('Gini')\n",
    "- KNN-20 SS"
   ]
  },
  {
   "cell_type": "markdown",
   "metadata": {},
   "source": [
    "## Model Selection with K Fold Cross Validation"
   ]
  },
  {
   "cell_type": "code",
   "execution_count": 89,
   "metadata": {},
   "outputs": [],
   "source": [
    "from sklearn.model_selection import cross_val_score"
   ]
  },
  {
   "cell_type": "code",
   "execution_count": 95,
   "metadata": {},
   "outputs": [
    {
     "name": "stdout",
     "output_type": "stream",
     "text": [
      "All xgb_scores:  [0.28279287 0.92596985 0.92807582]\n",
      "Mean:  0.7122795113806828\n",
      "Std:  0.30369413230435965\n"
     ]
    }
   ],
   "source": [
    "xgb_scores = cross_val_score(model_xgb, X_SMOTE, y_SMOTE, cv=3, scoring=\"f1\")\n",
    "print('All xgb_scores: ', xgb_scores)\n",
    "print('Mean: ', xgb_scores.mean())\n",
    "print('Std: ', xgb_scores.std())"
   ]
  },
  {
   "cell_type": "code",
   "execution_count": 91,
   "metadata": {},
   "outputs": [
    {
     "name": "stdout",
     "output_type": "stream",
     "text": [
      "All rf_scores:  [0.51912164 0.93156949 0.92624412]\n",
      "Mean:  0.7923117514055669\n",
      "Std:  0.19318681513620325\n"
     ]
    }
   ],
   "source": [
    "rf_scores = cross_val_score(clf_rf1, X_SMOTE, y_SMOTE, cv=3, scoring=\"f1\")\n",
    "print('All rf_scores: ', rf_scores)\n",
    "print('Mean: ', rf_scores.mean())\n",
    "print('Std: ', rf_scores.std())"
   ]
  },
  {
   "cell_type": "code",
   "execution_count": 92,
   "metadata": {},
   "outputs": [
    {
     "name": "stdout",
     "output_type": "stream",
     "text": [
      "All knn_scores:  [0.68501287 0.8407687  0.84582551]\n",
      "Mean:  0.7905356931640277\n",
      "Std:  0.0746444580462011\n"
     ]
    }
   ],
   "source": [
    "knn_scores = cross_val_score(knn20, X_SMOTE, y_SMOTE, cv=3, scoring=\"f1\")\n",
    "print('All knn_scores: ', knn_scores)\n",
    "print('Mean: ', knn_scores.mean())\n",
    "print('Std: ', knn_scores.std())"
   ]
  },
  {
   "cell_type": "markdown",
   "metadata": {},
   "source": [
    "---"
   ]
  },
  {
   "cell_type": "markdown",
   "metadata": {},
   "source": [
    "## Evaluating Best Model based on ROC"
   ]
  },
  {
   "cell_type": "code",
   "execution_count": 97,
   "metadata": {},
   "outputs": [
    {
     "data": {
      "text/plain": [
       "array([1, 0, 0, 0, 1, 0, 0, 0, 0, 0], dtype=int64)"
      ]
     },
     "execution_count": 97,
     "metadata": {},
     "output_type": "execute_result"
    }
   ],
   "source": [
    "model_xgb.predict(X_test)[:10]"
   ]
  },
  {
   "cell_type": "code",
   "execution_count": 102,
   "metadata": {},
   "outputs": [
    {
     "data": {
      "text/plain": [
       "array([1, 0, 0, 0, 1, 0, 0, 0, 0, 0])"
      ]
     },
     "execution_count": 102,
     "metadata": {},
     "output_type": "execute_result"
    }
   ],
   "source": [
    "(model_xgb.predict_proba(X_test)[:, 1][:10]>0.5)*1"
   ]
  },
  {
   "cell_type": "code",
   "execution_count": 103,
   "metadata": {},
   "outputs": [
    {
     "name": "stdout",
     "output_type": "stream",
     "text": [
      "Threshold:  0.1 F1 Score:  0.37\n",
      "Threshold:  0.2 F1 Score:  0.46\n",
      "Threshold:  0.3 F1 Score:  0.52\n",
      "Threshold:  0.4 F1 Score:  0.52\n",
      "Threshold:  0.5 F1 Score:  0.49\n",
      "Threshold:  0.6 F1 Score:  0.41\n",
      "Threshold:  0.7 F1 Score:  0.32\n",
      "Threshold:  0.8 F1 Score:  0.17\n",
      "Threshold:  0.9 F1 Score:  0.02\n",
      "Threshold:  1.0 F1 Score:  0.0\n"
     ]
    }
   ],
   "source": [
    "for threshold in np.arange(0.1, 1.1, 0.1):\n",
    "    predicted = model_xgb.predict_proba(X_test)[:,1]> threshold\n",
    "    print('Threshold: ', np.round(threshold, 2), 'F1 Score: ', np.round(f1_score(y_test, predicted), 2))"
   ]
  },
  {
   "cell_type": "code",
   "execution_count": 104,
   "metadata": {},
   "outputs": [],
   "source": [
    "from sklearn.metrics import roc_auc_score"
   ]
  },
  {
   "cell_type": "code",
   "execution_count": 105,
   "metadata": {},
   "outputs": [
    {
     "name": "stdout",
     "output_type": "stream",
     "text": [
      "XGB:  0.7636216438605111\n",
      "Random Forest:  0.5526705245303593\n",
      "KNN 20 SS:  0.7234872131842687\n"
     ]
    }
   ],
   "source": [
    "print('XGB: ', roc_auc_score(y_test, model_xgb.predict_proba(X_test)[:, 1]))\n",
    "print('Random Forest: ', roc_auc_score(y_test, clf_rf1.predict_proba(X_test)[:, 1]))\n",
    "print('KNN 20 SS: ', roc_auc_score(y_test, knn20.predict_proba(X_test)[:, 1]))"
   ]
  },
  {
   "cell_type": "code",
   "execution_count": 106,
   "metadata": {},
   "outputs": [
    {
     "name": "stdout",
     "output_type": "stream",
     "text": [
      "All xgb_scores:  [0.76158825 0.9738098  0.9731749 ]\n",
      "Mean:  0.902857652129447\n",
      "Std:  0.09989288613662275\n"
     ]
    }
   ],
   "source": [
    "xgb_scores = cross_val_score(model_xgb, X_SMOTE, y_SMOTE, cv=3, scoring=\"roc_auc\")\n",
    "print('All xgb_scores: ', xgb_scores)\n",
    "print('Mean: ', xgb_scores.mean())\n",
    "print('Std: ', xgb_scores.std())"
   ]
  },
  {
   "cell_type": "code",
   "execution_count": 107,
   "metadata": {},
   "outputs": [
    {
     "name": "stdout",
     "output_type": "stream",
     "text": [
      "All rf_scores:  [0.84903704 0.98365321 0.98083132]\n",
      "Mean:  0.9378405240217206\n",
      "Std:  0.0628041147053854\n"
     ]
    }
   ],
   "source": [
    "rf_scores = cross_val_score(clf_rf1, X_SMOTE, y_SMOTE, cv=3, scoring=\"roc_auc\")\n",
    "print('All rf_scores: ', rf_scores)\n",
    "print('Mean: ', rf_scores.mean())\n",
    "print('Std: ', rf_scores.std())"
   ]
  },
  {
   "cell_type": "code",
   "execution_count": 108,
   "metadata": {},
   "outputs": [
    {
     "name": "stdout",
     "output_type": "stream",
     "text": [
      "All knn_scores:  [0.80009105 0.91654824 0.92175721]\n",
      "Mean:  0.8794654978449851\n",
      "Std:  0.0561664812738682\n"
     ]
    }
   ],
   "source": [
    "knn_scores = cross_val_score(knn20, X_SMOTE, y_SMOTE, cv=3, scoring=\"roc_auc\")\n",
    "print('All knn_scores: ', knn_scores)\n",
    "print('Mean: ', knn_scores.mean())\n",
    "print('Std: ', knn_scores.std())"
   ]
  },
  {
   "cell_type": "markdown",
   "metadata": {},
   "source": [
    "---"
   ]
  },
  {
   "cell_type": "markdown",
   "metadata": {},
   "source": [
    "## Hyperparameter Tuning to further improve our model"
   ]
  },
  {
   "cell_type": "code",
   "execution_count": null,
   "metadata": {},
   "outputs": [],
   "source": [
    "from sklearn.model_selection import GridSearchCV\n",
    "from sklearn.model_selection import RandomizedSearchCV"
   ]
  },
  {
   "cell_type": "code",
   "execution_count": null,
   "metadata": {},
   "outputs": [],
   "source": [
    "RandomizedSearchCV?"
   ]
  },
  {
   "cell_type": "code",
   "execution_count": null,
   "metadata": {},
   "outputs": [],
   "source": [
    "%%time\n",
    "params = {'max_depth': np.arange(4, 20, 3), 'max_features': np.arange(1, 10, 2)}\n",
    "gcv = GridSearchCV(clf_rf1, param_grid=params, scoring= 'roc_auc', cv=3, verbose=2,  n_jobs=-1)\n",
    "gcv.fit(X_SMOTE, y_SMOTE)\n",
    "print(gcv.best_params_)\n",
    "print(gcv.best_score_)"
   ]
  },
  {
   "cell_type": "code",
   "execution_count": null,
   "metadata": {},
   "outputs": [],
   "source": [
    "pd.DataFrame(gcv.cv_results_)"
   ]
  },
  {
   "cell_type": "code",
   "execution_count": null,
   "metadata": {},
   "outputs": [],
   "source": [
    "%%time\n",
    "params = {'max_depth': np.arange(4, 20, 3), 'max_features': np.arange(1, 10, 2)}\n",
    "rcv = RandomizedSearchCV(clf_rf1, param_distributions= params, scoring='roc_auc', cv=3, verbose= 2, random_state=21, n_jobs=-1)\n",
    "rcv.fit(X_SMOTE, y_SMOTE)\n",
    "print(rcv.best_params_)\n",
    "print(rcv.best_score_)"
   ]
  },
  {
   "cell_type": "code",
   "execution_count": null,
   "metadata": {},
   "outputs": [],
   "source": [
    "pd.DataFrame(rcv.cv_results_)"
   ]
  },
  {
   "cell_type": "markdown",
   "metadata": {},
   "source": [
    "### Let's say our client has asked for best precision"
   ]
  },
  {
   "cell_type": "code",
   "execution_count": null,
   "metadata": {},
   "outputs": [],
   "source": [
    "for threshold in np.arange(0.1, 1.1, 0.1):\n",
    "    predicted = rcv.predict_proba(X_test)[:,1]> threshold\n",
    "    print('Threshold: ', np.round(threshold, 2), 'F1 Score: ', np.round(f1_score(y_test, predicted), 2))"
   ]
  },
  {
   "cell_type": "code",
   "execution_count": null,
   "metadata": {},
   "outputs": [],
   "source": [
    "predicted= rcv.predict_proba(X_test)[:,1]> 0.4\n",
    "\n",
    "acc = accuracy_score(y_test, predicted)\n",
    "prec = precision_score(y_test, predicted,zero_division=True)\n",
    "rec = recall_score(y_test, predicted,zero_division=True)\n",
    "f1 = f1_score(y_test, predicted, zero_division=True)\n",
    "\n",
    "model_results = pd.DataFrame([['Tuned RF', acc, prec, rec, f1]],\n",
    "               columns = ['Model', 'Accuracy', 'Precision', 'Recall', 'F1 Score'])\n",
    "\n",
    "results = results.append(model_results, ignore_index = True)\n",
    "print(results)"
   ]
  },
  {
   "cell_type": "markdown",
   "metadata": {},
   "source": [
    "---\n",
    "---\n",
    "---"
   ]
  },
  {
   "cell_type": "markdown",
   "metadata": {},
   "source": [
    "# Popular Supervised Learning Models: which one to choose?\n",
    "## <font color = purple>My tips\n",
    "\n",
    "### Depends on the Situation:\n",
    "   * Accuracy\n",
    "   * Computational time - time availability\n",
    "   * Gravity of the problem being solved\n",
    "   * Understanding of the 'black box'\n",
    "    \n",
    "### Linearly seperable data:\n",
    "   * Logistic: Binary \n",
    "   * SVM Linear: Multiclass\n",
    "   * Naive Bayes: Speed is Critical. Building Block model.\n",
    "    \n",
    "### Non-linearly seperable data:\n",
    "   * KNN, Decision Tree: Small Dataset\n",
    "   * SVM with kernels : Small yet complex datasets. \n",
    "   * Naive Bayes: Speed is Critical. Building Block model.\n",
    "   * Random Forest / Boosted Trees: Suitable for Large Datasets"
   ]
  },
  {
   "cell_type": "code",
   "execution_count": null,
   "metadata": {},
   "outputs": [],
   "source": []
  }
 ],
 "metadata": {
  "kernelspec": {
   "display_name": "Python 3",
   "language": "python",
   "name": "python3"
  },
  "language_info": {
   "codemirror_mode": {
    "name": "ipython",
    "version": 3
   },
   "file_extension": ".py",
   "mimetype": "text/x-python",
   "name": "python",
   "nbconvert_exporter": "python",
   "pygments_lexer": "ipython3",
   "version": "3.7.6"
  }
 },
 "nbformat": 4,
 "nbformat_minor": 4
}
